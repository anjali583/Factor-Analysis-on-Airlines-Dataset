{
 "cells": [
  {
   "cell_type": "markdown",
   "id": "5e68c776",
   "metadata": {},
   "source": [
    "# Factor Analysis on Airlines Dataset"
   ]
  },
  {
   "cell_type": "markdown",
   "id": "8d6ae6a6",
   "metadata": {},
   "source": [
    "- Factor Analyzer Installation : It is used for efficient factor analysis in Python, revealing latent patterns and reducing dimensionality in datasets."
   ]
  },
  {
   "cell_type": "code",
   "execution_count": 2,
   "id": "6beed9ab",
   "metadata": {
    "scrolled": true
   },
   "outputs": [
    {
     "name": "stdout",
     "output_type": "stream",
     "text": [
      "Collecting factor_analyzer\n",
      "  Using cached factor_analyzer-0.5.1-py2.py3-none-any.whl\n",
      "Requirement already satisfied: pandas in c:\\users\\daya\\anaconda3\\lib\\site-packages (from factor_analyzer) (1.5.3)\n",
      "Requirement already satisfied: scipy in c:\\users\\daya\\anaconda3\\lib\\site-packages (from factor_analyzer) (1.10.1)\n",
      "Requirement already satisfied: numpy in c:\\users\\daya\\anaconda3\\lib\\site-packages (from factor_analyzer) (1.24.4)\n",
      "Requirement already satisfied: scikit-learn in c:\\users\\daya\\anaconda3\\lib\\site-packages (from factor_analyzer) (1.2.2)\n",
      "Requirement already satisfied: python-dateutil>=2.8.1 in c:\\users\\daya\\anaconda3\\lib\\site-packages (from pandas->factor_analyzer) (2.8.2)\n",
      "Requirement already satisfied: pytz>=2020.1 in c:\\users\\daya\\anaconda3\\lib\\site-packages (from pandas->factor_analyzer) (2023.3.post1)\n",
      "Requirement already satisfied: joblib>=1.1.1 in c:\\users\\daya\\anaconda3\\lib\\site-packages (from scikit-learn->factor_analyzer) (1.2.0)\n",
      "Requirement already satisfied: threadpoolctl>=2.0.0 in c:\\users\\daya\\anaconda3\\lib\\site-packages (from scikit-learn->factor_analyzer) (2.2.0)\n",
      "Requirement already satisfied: six>=1.5 in c:\\users\\daya\\anaconda3\\lib\\site-packages (from python-dateutil>=2.8.1->pandas->factor_analyzer) (1.16.0)\n",
      "Installing collected packages: factor_analyzer\n",
      "Successfully installed factor_analyzer-0.5.1\n"
     ]
    }
   ],
   "source": [
    "!pip install factor_analyzer"
   ]
  },
  {
   "cell_type": "markdown",
   "id": "fe8c6c20",
   "metadata": {},
   "source": [
    "- Scikit-lean Installation : It is a versatile machine learning library in Python, offering tools for data preprocessing, model building and evaluation."
   ]
  },
  {
   "cell_type": "code",
   "execution_count": 3,
   "id": "57be1b4d",
   "metadata": {},
   "outputs": [
    {
     "name": "stdout",
     "output_type": "stream",
     "text": [
      "Requirement already satisfied: scikit-learn in c:\\users\\daya\\anaconda3\\lib\\site-packages (1.2.2)\n",
      "Requirement already satisfied: numpy>=1.17.3 in c:\\users\\daya\\anaconda3\\lib\\site-packages (from scikit-learn) (1.24.4)\n",
      "Requirement already satisfied: scipy>=1.3.2 in c:\\users\\daya\\anaconda3\\lib\\site-packages (from scikit-learn) (1.10.1)\n",
      "Requirement already satisfied: joblib>=1.1.1 in c:\\users\\daya\\anaconda3\\lib\\site-packages (from scikit-learn) (1.2.0)\n",
      "Requirement already satisfied: threadpoolctl>=2.0.0 in c:\\users\\daya\\anaconda3\\lib\\site-packages (from scikit-learn) (2.2.0)\n"
     ]
    }
   ],
   "source": [
    "!pip install scikit-learn"
   ]
  },
  {
   "cell_type": "markdown",
   "id": "30dd4045",
   "metadata": {},
   "source": [
    "- Required Package Installation."
   ]
  },
  {
   "cell_type": "code",
   "execution_count": 4,
   "id": "b2a6dc1d",
   "metadata": {
    "scrolled": true
   },
   "outputs": [],
   "source": [
    "from factor_analyzer import calculate_bartlett_sphericity\n",
    "from factor_analyzer import calculate_kmo\n",
    "from factor_analyzer import FactorAnalyzer\n",
    "from sklearn.decomposition import PCA\n",
    "from sklearn.preprocessing import StandardScaler\n",
    "import matplotlib.pyplot as plt\n",
    "from scipy.cluster.hierarchy import dendrogram, linkage\n",
    "from sklearn.cluster import KMeans\n",
    "import pandas as pd\n",
    "import numpy as np\n",
    "import seaborn as sns"
   ]
  },
  {
   "cell_type": "markdown",
   "id": "a88578f5",
   "metadata": {},
   "source": [
    "- Reading Excel File with Pandas"
   ]
  },
  {
   "cell_type": "code",
   "execution_count": 5,
   "id": "705fe645",
   "metadata": {},
   "outputs": [],
   "source": [
    "df=pd.read_excel('airline (1).xlsx')"
   ]
  },
  {
   "cell_type": "markdown",
   "id": "231031ab",
   "metadata": {},
   "source": [
    "- DataFrame Columns"
   ]
  },
  {
   "cell_type": "markdown",
   "id": "7d72d5bf",
   "metadata": {},
   "source": [
    "# EDA"
   ]
  },
  {
   "cell_type": "code",
   "execution_count": 6,
   "id": "8273d8ee",
   "metadata": {},
   "outputs": [
    {
     "data": {
      "text/plain": [
       "Index(['id', 'Gender', 'Customer Type', 'Type of Travel', 'Class',\n",
       "       'Flight Distance', 'Age', 'Inflight wifi service',\n",
       "       'Departure/Arrival time convenient', 'Ease of Online booking',\n",
       "       'Gate location', 'Food and drink', 'Online boarding', 'Seat comfort',\n",
       "       'Inflight entertainment', 'On-board service', 'Leg room service',\n",
       "       'Baggage handling', 'Checkin service', 'Inflight service',\n",
       "       'Cleanliness', 'Departure Delay in Minutes', 'Arrival Delay in Minutes',\n",
       "       'satisfaction'],\n",
       "      dtype='object')"
      ]
     },
     "execution_count": 6,
     "metadata": {},
     "output_type": "execute_result"
    }
   ],
   "source": [
    "df.columns"
   ]
  },
  {
   "cell_type": "markdown",
   "id": "282961e6",
   "metadata": {},
   "source": [
    "- Displaying the Top Rows of the DataFrame."
   ]
  },
  {
   "cell_type": "code",
   "execution_count": 7,
   "id": "509c27ae",
   "metadata": {},
   "outputs": [
    {
     "data": {
      "text/html": [
       "<div>\n",
       "<style scoped>\n",
       "    .dataframe tbody tr th:only-of-type {\n",
       "        vertical-align: middle;\n",
       "    }\n",
       "\n",
       "    .dataframe tbody tr th {\n",
       "        vertical-align: top;\n",
       "    }\n",
       "\n",
       "    .dataframe thead th {\n",
       "        text-align: right;\n",
       "    }\n",
       "</style>\n",
       "<table border=\"1\" class=\"dataframe\">\n",
       "  <thead>\n",
       "    <tr style=\"text-align: right;\">\n",
       "      <th></th>\n",
       "      <th>id</th>\n",
       "      <th>Gender</th>\n",
       "      <th>Customer Type</th>\n",
       "      <th>Type of Travel</th>\n",
       "      <th>Class</th>\n",
       "      <th>Flight Distance</th>\n",
       "      <th>Age</th>\n",
       "      <th>Inflight wifi service</th>\n",
       "      <th>Departure/Arrival time convenient</th>\n",
       "      <th>Ease of Online booking</th>\n",
       "      <th>...</th>\n",
       "      <th>Inflight entertainment</th>\n",
       "      <th>On-board service</th>\n",
       "      <th>Leg room service</th>\n",
       "      <th>Baggage handling</th>\n",
       "      <th>Checkin service</th>\n",
       "      <th>Inflight service</th>\n",
       "      <th>Cleanliness</th>\n",
       "      <th>Departure Delay in Minutes</th>\n",
       "      <th>Arrival Delay in Minutes</th>\n",
       "      <th>satisfaction</th>\n",
       "    </tr>\n",
       "  </thead>\n",
       "  <tbody>\n",
       "    <tr>\n",
       "      <th>0</th>\n",
       "      <td>19556</td>\n",
       "      <td>Female</td>\n",
       "      <td>Loyal Customer</td>\n",
       "      <td>Business travel</td>\n",
       "      <td>Eco</td>\n",
       "      <td>160</td>\n",
       "      <td>52</td>\n",
       "      <td>5</td>\n",
       "      <td>4</td>\n",
       "      <td>3</td>\n",
       "      <td>...</td>\n",
       "      <td>5</td>\n",
       "      <td>5</td>\n",
       "      <td>5</td>\n",
       "      <td>5</td>\n",
       "      <td>2</td>\n",
       "      <td>5</td>\n",
       "      <td>5</td>\n",
       "      <td>50</td>\n",
       "      <td>44.0</td>\n",
       "      <td>satisfied</td>\n",
       "    </tr>\n",
       "    <tr>\n",
       "      <th>1</th>\n",
       "      <td>90035</td>\n",
       "      <td>Female</td>\n",
       "      <td>Loyal Customer</td>\n",
       "      <td>Business travel</td>\n",
       "      <td>Business</td>\n",
       "      <td>2863</td>\n",
       "      <td>36</td>\n",
       "      <td>1</td>\n",
       "      <td>1</td>\n",
       "      <td>3</td>\n",
       "      <td>...</td>\n",
       "      <td>4</td>\n",
       "      <td>4</td>\n",
       "      <td>4</td>\n",
       "      <td>4</td>\n",
       "      <td>3</td>\n",
       "      <td>4</td>\n",
       "      <td>5</td>\n",
       "      <td>0</td>\n",
       "      <td>0.0</td>\n",
       "      <td>satisfied</td>\n",
       "    </tr>\n",
       "    <tr>\n",
       "      <th>2</th>\n",
       "      <td>12360</td>\n",
       "      <td>Male</td>\n",
       "      <td>disloyal Customer</td>\n",
       "      <td>Business travel</td>\n",
       "      <td>Eco</td>\n",
       "      <td>192</td>\n",
       "      <td>20</td>\n",
       "      <td>2</td>\n",
       "      <td>0</td>\n",
       "      <td>2</td>\n",
       "      <td>...</td>\n",
       "      <td>2</td>\n",
       "      <td>4</td>\n",
       "      <td>1</td>\n",
       "      <td>3</td>\n",
       "      <td>2</td>\n",
       "      <td>2</td>\n",
       "      <td>2</td>\n",
       "      <td>0</td>\n",
       "      <td>0.0</td>\n",
       "      <td>neutral or dissatisfied</td>\n",
       "    </tr>\n",
       "    <tr>\n",
       "      <th>3</th>\n",
       "      <td>77959</td>\n",
       "      <td>Male</td>\n",
       "      <td>Loyal Customer</td>\n",
       "      <td>Business travel</td>\n",
       "      <td>Business</td>\n",
       "      <td>3377</td>\n",
       "      <td>44</td>\n",
       "      <td>0</td>\n",
       "      <td>0</td>\n",
       "      <td>0</td>\n",
       "      <td>...</td>\n",
       "      <td>1</td>\n",
       "      <td>1</td>\n",
       "      <td>1</td>\n",
       "      <td>1</td>\n",
       "      <td>3</td>\n",
       "      <td>1</td>\n",
       "      <td>4</td>\n",
       "      <td>0</td>\n",
       "      <td>6.0</td>\n",
       "      <td>satisfied</td>\n",
       "    </tr>\n",
       "    <tr>\n",
       "      <th>4</th>\n",
       "      <td>36875</td>\n",
       "      <td>Female</td>\n",
       "      <td>Loyal Customer</td>\n",
       "      <td>Business travel</td>\n",
       "      <td>Eco</td>\n",
       "      <td>1182</td>\n",
       "      <td>49</td>\n",
       "      <td>2</td>\n",
       "      <td>3</td>\n",
       "      <td>4</td>\n",
       "      <td>...</td>\n",
       "      <td>2</td>\n",
       "      <td>2</td>\n",
       "      <td>2</td>\n",
       "      <td>2</td>\n",
       "      <td>4</td>\n",
       "      <td>2</td>\n",
       "      <td>4</td>\n",
       "      <td>0</td>\n",
       "      <td>20.0</td>\n",
       "      <td>satisfied</td>\n",
       "    </tr>\n",
       "  </tbody>\n",
       "</table>\n",
       "<p>5 rows × 24 columns</p>\n",
       "</div>"
      ],
      "text/plain": [
       "      id  Gender      Customer Type   Type of Travel     Class  \\\n",
       "0  19556  Female     Loyal Customer  Business travel       Eco   \n",
       "1  90035  Female     Loyal Customer  Business travel  Business   \n",
       "2  12360    Male  disloyal Customer  Business travel       Eco   \n",
       "3  77959    Male     Loyal Customer  Business travel  Business   \n",
       "4  36875  Female     Loyal Customer  Business travel       Eco   \n",
       "\n",
       "   Flight Distance  Age  Inflight wifi service  \\\n",
       "0              160   52                      5   \n",
       "1             2863   36                      1   \n",
       "2              192   20                      2   \n",
       "3             3377   44                      0   \n",
       "4             1182   49                      2   \n",
       "\n",
       "   Departure/Arrival time convenient  Ease of Online booking  ...  \\\n",
       "0                                  4                       3  ...   \n",
       "1                                  1                       3  ...   \n",
       "2                                  0                       2  ...   \n",
       "3                                  0                       0  ...   \n",
       "4                                  3                       4  ...   \n",
       "\n",
       "   Inflight entertainment  On-board service  Leg room service  \\\n",
       "0                       5                 5                 5   \n",
       "1                       4                 4                 4   \n",
       "2                       2                 4                 1   \n",
       "3                       1                 1                 1   \n",
       "4                       2                 2                 2   \n",
       "\n",
       "   Baggage handling  Checkin service  Inflight service  Cleanliness  \\\n",
       "0                 5                2                 5            5   \n",
       "1                 4                3                 4            5   \n",
       "2                 3                2                 2            2   \n",
       "3                 1                3                 1            4   \n",
       "4                 2                4                 2            4   \n",
       "\n",
       "   Departure Delay in Minutes  Arrival Delay in Minutes  \\\n",
       "0                          50                      44.0   \n",
       "1                           0                       0.0   \n",
       "2                           0                       0.0   \n",
       "3                           0                       6.0   \n",
       "4                           0                      20.0   \n",
       "\n",
       "              satisfaction  \n",
       "0                satisfied  \n",
       "1                satisfied  \n",
       "2  neutral or dissatisfied  \n",
       "3                satisfied  \n",
       "4                satisfied  \n",
       "\n",
       "[5 rows x 24 columns]"
      ]
     },
     "execution_count": 7,
     "metadata": {},
     "output_type": "execute_result"
    }
   ],
   "source": [
    "df.head()"
   ]
  },
  {
   "cell_type": "markdown",
   "id": "5752b714",
   "metadata": {},
   "source": [
    "- DataFrame Shape."
   ]
  },
  {
   "cell_type": "code",
   "execution_count": 8,
   "id": "5c5a0254",
   "metadata": {},
   "outputs": [
    {
     "data": {
      "text/plain": [
       "(25976, 24)"
      ]
     },
     "execution_count": 8,
     "metadata": {},
     "output_type": "execute_result"
    }
   ],
   "source": [
    "df.shape"
   ]
  },
  {
   "cell_type": "markdown",
   "id": "e360ddb8",
   "metadata": {},
   "source": [
    "- Converting Satisfaction Levels to Binary Values."
   ]
  },
  {
   "cell_type": "code",
   "execution_count": 9,
   "id": "a64bf80f",
   "metadata": {},
   "outputs": [],
   "source": [
    "df['satisfaction']=df['satisfaction'].map({'neutral or dissatisfied':0,'satisfied':1}) "
   ]
  },
  {
   "cell_type": "markdown",
   "id": "182e52c6",
   "metadata": {},
   "source": [
    "- Creating a Subset DataFrame (df_dropped) from Column Index 6 to -3"
   ]
  },
  {
   "cell_type": "code",
   "execution_count": 10,
   "id": "f9d31d7c",
   "metadata": {},
   "outputs": [],
   "source": [
    "df_dropped = df.iloc[:, 7:-3]"
   ]
  },
  {
   "cell_type": "markdown",
   "id": "63f0bc5b",
   "metadata": {},
   "source": [
    "- Subset DataFrame."
   ]
  },
  {
   "cell_type": "code",
   "execution_count": 11,
   "id": "4451771b",
   "metadata": {},
   "outputs": [
    {
     "data": {
      "text/html": [
       "<div>\n",
       "<style scoped>\n",
       "    .dataframe tbody tr th:only-of-type {\n",
       "        vertical-align: middle;\n",
       "    }\n",
       "\n",
       "    .dataframe tbody tr th {\n",
       "        vertical-align: top;\n",
       "    }\n",
       "\n",
       "    .dataframe thead th {\n",
       "        text-align: right;\n",
       "    }\n",
       "</style>\n",
       "<table border=\"1\" class=\"dataframe\">\n",
       "  <thead>\n",
       "    <tr style=\"text-align: right;\">\n",
       "      <th></th>\n",
       "      <th>Inflight wifi service</th>\n",
       "      <th>Departure/Arrival time convenient</th>\n",
       "      <th>Ease of Online booking</th>\n",
       "      <th>Gate location</th>\n",
       "      <th>Food and drink</th>\n",
       "      <th>Online boarding</th>\n",
       "      <th>Seat comfort</th>\n",
       "      <th>Inflight entertainment</th>\n",
       "      <th>On-board service</th>\n",
       "      <th>Leg room service</th>\n",
       "      <th>Baggage handling</th>\n",
       "      <th>Checkin service</th>\n",
       "      <th>Inflight service</th>\n",
       "      <th>Cleanliness</th>\n",
       "    </tr>\n",
       "  </thead>\n",
       "  <tbody>\n",
       "    <tr>\n",
       "      <th>0</th>\n",
       "      <td>5</td>\n",
       "      <td>4</td>\n",
       "      <td>3</td>\n",
       "      <td>4</td>\n",
       "      <td>3</td>\n",
       "      <td>4</td>\n",
       "      <td>3</td>\n",
       "      <td>5</td>\n",
       "      <td>5</td>\n",
       "      <td>5</td>\n",
       "      <td>5</td>\n",
       "      <td>2</td>\n",
       "      <td>5</td>\n",
       "      <td>5</td>\n",
       "    </tr>\n",
       "    <tr>\n",
       "      <th>1</th>\n",
       "      <td>1</td>\n",
       "      <td>1</td>\n",
       "      <td>3</td>\n",
       "      <td>1</td>\n",
       "      <td>5</td>\n",
       "      <td>4</td>\n",
       "      <td>5</td>\n",
       "      <td>4</td>\n",
       "      <td>4</td>\n",
       "      <td>4</td>\n",
       "      <td>4</td>\n",
       "      <td>3</td>\n",
       "      <td>4</td>\n",
       "      <td>5</td>\n",
       "    </tr>\n",
       "    <tr>\n",
       "      <th>2</th>\n",
       "      <td>2</td>\n",
       "      <td>0</td>\n",
       "      <td>2</td>\n",
       "      <td>4</td>\n",
       "      <td>2</td>\n",
       "      <td>2</td>\n",
       "      <td>2</td>\n",
       "      <td>2</td>\n",
       "      <td>4</td>\n",
       "      <td>1</td>\n",
       "      <td>3</td>\n",
       "      <td>2</td>\n",
       "      <td>2</td>\n",
       "      <td>2</td>\n",
       "    </tr>\n",
       "    <tr>\n",
       "      <th>3</th>\n",
       "      <td>0</td>\n",
       "      <td>0</td>\n",
       "      <td>0</td>\n",
       "      <td>2</td>\n",
       "      <td>3</td>\n",
       "      <td>4</td>\n",
       "      <td>4</td>\n",
       "      <td>1</td>\n",
       "      <td>1</td>\n",
       "      <td>1</td>\n",
       "      <td>1</td>\n",
       "      <td>3</td>\n",
       "      <td>1</td>\n",
       "      <td>4</td>\n",
       "    </tr>\n",
       "    <tr>\n",
       "      <th>4</th>\n",
       "      <td>2</td>\n",
       "      <td>3</td>\n",
       "      <td>4</td>\n",
       "      <td>3</td>\n",
       "      <td>4</td>\n",
       "      <td>1</td>\n",
       "      <td>2</td>\n",
       "      <td>2</td>\n",
       "      <td>2</td>\n",
       "      <td>2</td>\n",
       "      <td>2</td>\n",
       "      <td>4</td>\n",
       "      <td>2</td>\n",
       "      <td>4</td>\n",
       "    </tr>\n",
       "    <tr>\n",
       "      <th>...</th>\n",
       "      <td>...</td>\n",
       "      <td>...</td>\n",
       "      <td>...</td>\n",
       "      <td>...</td>\n",
       "      <td>...</td>\n",
       "      <td>...</td>\n",
       "      <td>...</td>\n",
       "      <td>...</td>\n",
       "      <td>...</td>\n",
       "      <td>...</td>\n",
       "      <td>...</td>\n",
       "      <td>...</td>\n",
       "      <td>...</td>\n",
       "      <td>...</td>\n",
       "    </tr>\n",
       "    <tr>\n",
       "      <th>25971</th>\n",
       "      <td>3</td>\n",
       "      <td>3</td>\n",
       "      <td>3</td>\n",
       "      <td>1</td>\n",
       "      <td>4</td>\n",
       "      <td>3</td>\n",
       "      <td>4</td>\n",
       "      <td>4</td>\n",
       "      <td>3</td>\n",
       "      <td>2</td>\n",
       "      <td>4</td>\n",
       "      <td>4</td>\n",
       "      <td>5</td>\n",
       "      <td>4</td>\n",
       "    </tr>\n",
       "    <tr>\n",
       "      <th>25972</th>\n",
       "      <td>4</td>\n",
       "      <td>4</td>\n",
       "      <td>4</td>\n",
       "      <td>4</td>\n",
       "      <td>4</td>\n",
       "      <td>4</td>\n",
       "      <td>4</td>\n",
       "      <td>4</td>\n",
       "      <td>4</td>\n",
       "      <td>5</td>\n",
       "      <td>5</td>\n",
       "      <td>5</td>\n",
       "      <td>5</td>\n",
       "      <td>4</td>\n",
       "    </tr>\n",
       "    <tr>\n",
       "      <th>25973</th>\n",
       "      <td>2</td>\n",
       "      <td>5</td>\n",
       "      <td>1</td>\n",
       "      <td>5</td>\n",
       "      <td>2</td>\n",
       "      <td>1</td>\n",
       "      <td>2</td>\n",
       "      <td>2</td>\n",
       "      <td>4</td>\n",
       "      <td>3</td>\n",
       "      <td>4</td>\n",
       "      <td>5</td>\n",
       "      <td>4</td>\n",
       "      <td>2</td>\n",
       "    </tr>\n",
       "    <tr>\n",
       "      <th>25974</th>\n",
       "      <td>3</td>\n",
       "      <td>3</td>\n",
       "      <td>3</td>\n",
       "      <td>3</td>\n",
       "      <td>4</td>\n",
       "      <td>4</td>\n",
       "      <td>4</td>\n",
       "      <td>4</td>\n",
       "      <td>3</td>\n",
       "      <td>2</td>\n",
       "      <td>5</td>\n",
       "      <td>4</td>\n",
       "      <td>5</td>\n",
       "      <td>4</td>\n",
       "    </tr>\n",
       "    <tr>\n",
       "      <th>25975</th>\n",
       "      <td>2</td>\n",
       "      <td>5</td>\n",
       "      <td>2</td>\n",
       "      <td>5</td>\n",
       "      <td>4</td>\n",
       "      <td>2</td>\n",
       "      <td>2</td>\n",
       "      <td>1</td>\n",
       "      <td>1</td>\n",
       "      <td>2</td>\n",
       "      <td>1</td>\n",
       "      <td>1</td>\n",
       "      <td>1</td>\n",
       "      <td>1</td>\n",
       "    </tr>\n",
       "  </tbody>\n",
       "</table>\n",
       "<p>25976 rows × 14 columns</p>\n",
       "</div>"
      ],
      "text/plain": [
       "       Inflight wifi service  Departure/Arrival time convenient  \\\n",
       "0                          5                                  4   \n",
       "1                          1                                  1   \n",
       "2                          2                                  0   \n",
       "3                          0                                  0   \n",
       "4                          2                                  3   \n",
       "...                      ...                                ...   \n",
       "25971                      3                                  3   \n",
       "25972                      4                                  4   \n",
       "25973                      2                                  5   \n",
       "25974                      3                                  3   \n",
       "25975                      2                                  5   \n",
       "\n",
       "       Ease of Online booking  Gate location  Food and drink  Online boarding  \\\n",
       "0                           3              4               3                4   \n",
       "1                           3              1               5                4   \n",
       "2                           2              4               2                2   \n",
       "3                           0              2               3                4   \n",
       "4                           4              3               4                1   \n",
       "...                       ...            ...             ...              ...   \n",
       "25971                       3              1               4                3   \n",
       "25972                       4              4               4                4   \n",
       "25973                       1              5               2                1   \n",
       "25974                       3              3               4                4   \n",
       "25975                       2              5               4                2   \n",
       "\n",
       "       Seat comfort  Inflight entertainment  On-board service  \\\n",
       "0                 3                       5                 5   \n",
       "1                 5                       4                 4   \n",
       "2                 2                       2                 4   \n",
       "3                 4                       1                 1   \n",
       "4                 2                       2                 2   \n",
       "...             ...                     ...               ...   \n",
       "25971             4                       4                 3   \n",
       "25972             4                       4                 4   \n",
       "25973             2                       2                 4   \n",
       "25974             4                       4                 3   \n",
       "25975             2                       1                 1   \n",
       "\n",
       "       Leg room service  Baggage handling  Checkin service  Inflight service  \\\n",
       "0                     5                 5                2                 5   \n",
       "1                     4                 4                3                 4   \n",
       "2                     1                 3                2                 2   \n",
       "3                     1                 1                3                 1   \n",
       "4                     2                 2                4                 2   \n",
       "...                 ...               ...              ...               ...   \n",
       "25971                 2                 4                4                 5   \n",
       "25972                 5                 5                5                 5   \n",
       "25973                 3                 4                5                 4   \n",
       "25974                 2                 5                4                 5   \n",
       "25975                 2                 1                1                 1   \n",
       "\n",
       "       Cleanliness  \n",
       "0                5  \n",
       "1                5  \n",
       "2                2  \n",
       "3                4  \n",
       "4                4  \n",
       "...            ...  \n",
       "25971            4  \n",
       "25972            4  \n",
       "25973            2  \n",
       "25974            4  \n",
       "25975            1  \n",
       "\n",
       "[25976 rows x 14 columns]"
      ]
     },
     "execution_count": 11,
     "metadata": {},
     "output_type": "execute_result"
    }
   ],
   "source": [
    "df_dropped"
   ]
  },
  {
   "cell_type": "markdown",
   "id": "d2aab262",
   "metadata": {},
   "source": [
    "- Correaltion Matrix (z) for Subset DataFrame."
   ]
  },
  {
   "cell_type": "code",
   "execution_count": 12,
   "id": "1b3ebc14",
   "metadata": {},
   "outputs": [],
   "source": [
    "z=df_dropped.corr()"
   ]
  },
  {
   "cell_type": "markdown",
   "id": "718eb6b2",
   "metadata": {},
   "source": [
    "- Correlation Heatmap."
   ]
  },
  {
   "cell_type": "code",
   "execution_count": 13,
   "id": "df032f58",
   "metadata": {},
   "outputs": [
    {
     "data": {
      "image/png": "[encoded data removed]",
      "text/plain": [
       "<Figure size 1600x1600 with 2 Axes>"
      ]
     },
     "metadata": {},
     "output_type": "display_data"
    }
   ],
   "source": [
    "plt.figure(figsize=(16,16))\n",
    "sns.heatmap(z, annot=True)\n",
    "plt.show()"
   ]
  },
  {
   "cell_type": "markdown",
   "id": "53b064b9",
   "metadata": {},
   "source": [
    "# Adequacy Test : Bartlett’s Test of Sphericity.\n",
    "- HYPOTHESIS :\n",
    "- Null Hypothesis (H0): The observed variables in the dataset are not correlated, and therefore, the correlation matrix is an identity matrix (spherical).\n",
    "- Alternative Hypothesis (H1): The observed variables in the dataset are correlated, and the correlation matrix is not an identity matrix (non-spherical)."
   ]
  },
  {
   "cell_type": "code",
   "execution_count": 14,
   "id": "112abda6",
   "metadata": {},
   "outputs": [
    {
     "name": "stdout",
     "output_type": "stream",
     "text": [
      "Chi Square Value, P Values= 152158.4023161434 0.0\n"
     ]
    }
   ],
   "source": [
    "from factor_analyzer.factor_analyzer import calculate_bartlett_sphericity\n",
    "chi_square_value, p_value=calculate_bartlett_sphericity(df_dropped)\n",
    "print(\"Chi Square Value, P Values=\",chi_square_value,p_value)"
   ]
  },
  {
   "cell_type": "markdown",
   "id": "9ffa85d1",
   "metadata": {},
   "source": [
    "# Kaiser-Meyer-Olkin (KMO) Test\n",
    "- HYPOTHESIS:\n",
    "- Null Hypothesis (H0): The observed variables in the dataset are not suitable for structure detection, indicating that the partial correlations are close to zero.\n",
    "- Alternative Hypothesis (H1): The observed variables in the dataset are suitable for structure detection, indicating that the partial correlations are significantly different from zero."
   ]
  },
  {
   "cell_type": "code",
   "execution_count": 15,
   "id": "35201af9",
   "metadata": {},
   "outputs": [
    {
     "name": "stdout",
     "output_type": "stream",
     "text": [
      "KMO Value= 0.782427458383862\n"
     ]
    }
   ],
   "source": [
    "from factor_analyzer.factor_analyzer import calculate_kmo\n",
    "kmo_all,kmo_model=calculate_kmo(df_dropped)\n",
    "print(\"KMO Value=\",kmo_model)"
   ]
  },
  {
   "cell_type": "markdown",
   "id": "75b1b281",
   "metadata": {},
   "source": [
    "- Standardization of Data"
   ]
  },
  {
   "cell_type": "code",
   "execution_count": 16,
   "id": "127bf4fa",
   "metadata": {},
   "outputs": [],
   "source": [
    "scaler = StandardScaler()\n",
    "data_scaled = scaler.fit_transform(df_dropped)"
   ]
  },
  {
   "cell_type": "markdown",
   "id": "96a064cb",
   "metadata": {},
   "source": [
    "# Factor Extraction"
   ]
  },
  {
   "cell_type": "markdown",
   "id": "cb71b92c",
   "metadata": {},
   "source": [
    "- Principal Component Analysis (PCA)"
   ]
  },
  {
   "cell_type": "code",
   "execution_count": 17,
   "id": "d0ac3ca3",
   "metadata": {},
   "outputs": [
    {
     "data": {
      "text/html": [
       "<style>#sk-container-id-1 {color: black;background-color: white;}#sk-container-id-1 pre{padding: 0;}#sk-container-id-1 div.sk-toggleable {background-color: white;}#sk-container-id-1 label.sk-toggleable__label {cursor: pointer;display: block;width: 100%;margin-bottom: 0;padding: 0.3em;box-sizing: border-box;text-align: center;}#sk-container-id-1 label.sk-toggleable__label-arrow:before {content: \"▸\";float: left;margin-right: 0.25em;color: #696969;}#sk-container-id-1 label.sk-toggleable__label-arrow:hover:before {color: black;}#sk-container-id-1 div.sk-estimator:hover label.sk-toggleable__label-arrow:before {color: black;}#sk-container-id-1 div.sk-toggleable__content {max-height: 0;max-width: 0;overflow: hidden;text-align: left;background-color: #f0f8ff;}#sk-container-id-1 div.sk-toggleable__content pre {margin: 0.2em;color: black;border-radius: 0.25em;background-color: #f0f8ff;}#sk-container-id-1 input.sk-toggleable__control:checked~div.sk-toggleable__content {max-height: 200px;max-width: 100%;overflow: auto;}#sk-container-id-1 input.sk-toggleable__control:checked~label.sk-toggleable__label-arrow:before {content: \"▾\";}#sk-container-id-1 div.sk-estimator input.sk-toggleable__control:checked~label.sk-toggleable__label {background-color: #d4ebff;}#sk-container-id-1 div.sk-label input.sk-toggleable__control:checked~label.sk-toggleable__label {background-color: #d4ebff;}#sk-container-id-1 input.sk-hidden--visually {border: 0;clip: rect(1px 1px 1px 1px);clip: rect(1px, 1px, 1px, 1px);height: 1px;margin: -1px;overflow: hidden;padding: 0;position: absolute;width: 1px;}#sk-container-id-1 div.sk-estimator {font-family: monospace;background-color: #f0f8ff;border: 1px dotted black;border-radius: 0.25em;box-sizing: border-box;margin-bottom: 0.5em;}#sk-container-id-1 div.sk-estimator:hover {background-color: #d4ebff;}#sk-container-id-1 div.sk-parallel-item::after {content: \"\";width: 100%;border-bottom: 1px solid gray;flex-grow: 1;}#sk-container-id-1 div.sk-label:hover label.sk-toggleable__label {background-color: #d4ebff;}#sk-container-id-1 div.sk-serial::before {content: \"\";position: absolute;border-left: 1px solid gray;box-sizing: border-box;top: 0;bottom: 0;left: 50%;z-index: 0;}#sk-container-id-1 div.sk-serial {display: flex;flex-direction: column;align-items: center;background-color: white;padding-right: 0.2em;padding-left: 0.2em;position: relative;}#sk-container-id-1 div.sk-item {position: relative;z-index: 1;}#sk-container-id-1 div.sk-parallel {display: flex;align-items: stretch;justify-content: center;background-color: white;position: relative;}#sk-container-id-1 div.sk-item::before, #sk-container-id-1 div.sk-parallel-item::before {content: \"\";position: absolute;border-left: 1px solid gray;box-sizing: border-box;top: 0;bottom: 0;left: 50%;z-index: -1;}#sk-container-id-1 div.sk-parallel-item {display: flex;flex-direction: column;z-index: 1;position: relative;background-color: white;}#sk-container-id-1 div.sk-parallel-item:first-child::after {align-self: flex-end;width: 50%;}#sk-container-id-1 div.sk-parallel-item:last-child::after {align-self: flex-start;width: 50%;}#sk-container-id-1 div.sk-parallel-item:only-child::after {width: 0;}#sk-container-id-1 div.sk-dashed-wrapped {border: 1px dashed gray;margin: 0 0.4em 0.5em 0.4em;box-sizing: border-box;padding-bottom: 0.4em;background-color: white;}#sk-container-id-1 div.sk-label label {font-family: monospace;font-weight: bold;display: inline-block;line-height: 1.2em;}#sk-container-id-1 div.sk-label-container {text-align: center;}#sk-container-id-1 div.sk-container {/* jupyter's `normalize.less` sets `[hidden] { display: none; }` but bootstrap.min.css set `[hidden] { display: none !important; }` so we also need the `!important` here to be able to override the default hidden behavior on the sphinx rendered scikit-learn.org. See: https://github.com/scikit-learn/scikit-learn/issues/21755 */display: inline-block !important;position: relative;}#sk-container-id-1 div.sk-text-repr-fallback {display: none;}</style><div id=\"sk-container-id-1\" class=\"sk-top-container\"><div class=\"sk-text-repr-fallback\"><pre>PCA()</pre><b>In a Jupyter environment, please rerun this cell to show the HTML representation or trust the notebook. <br />On GitHub, the HTML representation is unable to render, please try loading this page with nbviewer.org.</b></div><div class=\"sk-container\" hidden><div class=\"sk-item\"><div class=\"sk-estimator sk-toggleable\"><input class=\"sk-toggleable__control sk-hidden--visually\" id=\"sk-estimator-id-1\" type=\"checkbox\" checked><label for=\"sk-estimator-id-1\" class=\"sk-toggleable__label sk-toggleable__label-arrow\">PCA</label><div class=\"sk-toggleable__content\"><pre>PCA()</pre></div></div></div></div></div>"
      ],
      "text/plain": [
       "PCA()"
      ]
     },
     "execution_count": 17,
     "metadata": {},
     "output_type": "execute_result"
    }
   ],
   "source": [
    "pca = PCA()\n",
    "pca.fit(data_scaled)"
   ]
  },
  {
   "cell_type": "markdown",
   "id": "d52fa7b0",
   "metadata": {},
   "source": [
    "- Eigen Score and Variance Analysis"
   ]
  },
  {
   "cell_type": "code",
   "execution_count": 18,
   "id": "284fcb12",
   "metadata": {},
   "outputs": [],
   "source": [
    "eigen_values = pca.explained_variance_\n",
    "variance_ratio = pca.explained_variance_ratio_ * 100\n",
    "cumulative_ratio = variance_ratio.cumsum()"
   ]
  },
  {
   "cell_type": "markdown",
   "id": "87c96c89",
   "metadata": {},
   "source": [
    "- Eigen values, Variance ratio, Cumulative ratio"
   ]
  },
  {
   "cell_type": "code",
   "execution_count": 19,
   "id": "ab3748a1",
   "metadata": {},
   "outputs": [
    {
     "data": {
      "text/plain": [
       "array([ 27.04455858,  44.24888179,  59.8318573 ,  67.427921  ,\n",
       "        74.1704245 ,  79.09184021,  82.86843477,  86.49486582,\n",
       "        89.79976912,  92.40701571,  94.76802354,  96.82096622,\n",
       "        98.67469909, 100.        ])"
      ]
     },
     "execution_count": 19,
     "metadata": {},
     "output_type": "execute_result"
    }
   ],
   "source": [
    "eigen_values\n",
    "variance_ratio\n",
    "cumulative_ratio"
   ]
  },
  {
   "cell_type": "markdown",
   "id": "ed80428e",
   "metadata": {},
   "source": [
    "# Principal component Analysis Results"
   ]
  },
  {
   "cell_type": "code",
   "execution_count": 20,
   "id": "03966357",
   "metadata": {},
   "outputs": [],
   "source": [
    "pca_results = pd.DataFrame({\n",
    "    'eigenvalue': eigen_values,\n",
    "    'percentage of variance': variance_ratio,\n",
    "    'cumulative percentage of variance': cumulative_ratio\n",
    "})\n",
    "pca_results.index = ['comp ' + str(i+1) for i in pca_results.index]"
   ]
  },
  {
   "cell_type": "code",
   "execution_count": 21,
   "id": "2bd5d406",
   "metadata": {},
   "outputs": [
    {
     "data": {
      "text/html": [
       "<div>\n",
       "<style scoped>\n",
       "    .dataframe tbody tr th:only-of-type {\n",
       "        vertical-align: middle;\n",
       "    }\n",
       "\n",
       "    .dataframe tbody tr th {\n",
       "        vertical-align: top;\n",
       "    }\n",
       "\n",
       "    .dataframe thead th {\n",
       "        text-align: right;\n",
       "    }\n",
       "</style>\n",
       "<table border=\"1\" class=\"dataframe\">\n",
       "  <thead>\n",
       "    <tr style=\"text-align: right;\">\n",
       "      <th></th>\n",
       "      <th>eigenvalue</th>\n",
       "      <th>percentage of variance</th>\n",
       "      <th>cumulative percentage of variance</th>\n",
       "    </tr>\n",
       "  </thead>\n",
       "  <tbody>\n",
       "    <tr>\n",
       "      <th>comp 1</th>\n",
       "      <td>3.786384</td>\n",
       "      <td>27.044559</td>\n",
       "      <td>27.044559</td>\n",
       "    </tr>\n",
       "    <tr>\n",
       "      <th>comp 2</th>\n",
       "      <td>2.408698</td>\n",
       "      <td>17.204323</td>\n",
       "      <td>44.248882</td>\n",
       "    </tr>\n",
       "    <tr>\n",
       "      <th>comp 3</th>\n",
       "      <td>2.181701</td>\n",
       "      <td>15.582976</td>\n",
       "      <td>59.831857</td>\n",
       "    </tr>\n",
       "    <tr>\n",
       "      <th>comp 4</th>\n",
       "      <td>1.063490</td>\n",
       "      <td>7.596064</td>\n",
       "      <td>67.427921</td>\n",
       "    </tr>\n",
       "    <tr>\n",
       "      <th>comp 5</th>\n",
       "      <td>0.943987</td>\n",
       "      <td>6.742504</td>\n",
       "      <td>74.170425</td>\n",
       "    </tr>\n",
       "    <tr>\n",
       "      <th>comp 6</th>\n",
       "      <td>0.689025</td>\n",
       "      <td>4.921416</td>\n",
       "      <td>79.091840</td>\n",
       "    </tr>\n",
       "    <tr>\n",
       "      <th>comp 7</th>\n",
       "      <td>0.528744</td>\n",
       "      <td>3.776595</td>\n",
       "      <td>82.868435</td>\n",
       "    </tr>\n",
       "    <tr>\n",
       "      <th>comp 8</th>\n",
       "      <td>0.507720</td>\n",
       "      <td>3.626431</td>\n",
       "      <td>86.494866</td>\n",
       "    </tr>\n",
       "    <tr>\n",
       "      <th>comp 9</th>\n",
       "      <td>0.462704</td>\n",
       "      <td>3.304903</td>\n",
       "      <td>89.799769</td>\n",
       "    </tr>\n",
       "    <tr>\n",
       "      <th>comp 10</th>\n",
       "      <td>0.365029</td>\n",
       "      <td>2.607247</td>\n",
       "      <td>92.407016</td>\n",
       "    </tr>\n",
       "    <tr>\n",
       "      <th>comp 11</th>\n",
       "      <td>0.330554</td>\n",
       "      <td>2.361008</td>\n",
       "      <td>94.768024</td>\n",
       "    </tr>\n",
       "    <tr>\n",
       "      <th>comp 12</th>\n",
       "      <td>0.287423</td>\n",
       "      <td>2.052943</td>\n",
       "      <td>96.820966</td>\n",
       "    </tr>\n",
       "    <tr>\n",
       "      <th>comp 13</th>\n",
       "      <td>0.259533</td>\n",
       "      <td>1.853733</td>\n",
       "      <td>98.674699</td>\n",
       "    </tr>\n",
       "    <tr>\n",
       "      <th>comp 14</th>\n",
       "      <td>0.185549</td>\n",
       "      <td>1.325301</td>\n",
       "      <td>100.000000</td>\n",
       "    </tr>\n",
       "  </tbody>\n",
       "</table>\n",
       "</div>"
      ],
      "text/plain": [
       "         eigenvalue  percentage of variance  cumulative percentage of variance\n",
       "comp 1     3.786384               27.044559                          27.044559\n",
       "comp 2     2.408698               17.204323                          44.248882\n",
       "comp 3     2.181701               15.582976                          59.831857\n",
       "comp 4     1.063490                7.596064                          67.427921\n",
       "comp 5     0.943987                6.742504                          74.170425\n",
       "comp 6     0.689025                4.921416                          79.091840\n",
       "comp 7     0.528744                3.776595                          82.868435\n",
       "comp 8     0.507720                3.626431                          86.494866\n",
       "comp 9     0.462704                3.304903                          89.799769\n",
       "comp 10    0.365029                2.607247                          92.407016\n",
       "comp 11    0.330554                2.361008                          94.768024\n",
       "comp 12    0.287423                2.052943                          96.820966\n",
       "comp 13    0.259533                1.853733                          98.674699\n",
       "comp 14    0.185549                1.325301                         100.000000"
      ]
     },
     "execution_count": 21,
     "metadata": {},
     "output_type": "execute_result"
    }
   ],
   "source": [
    "pca_results"
   ]
  },
  {
   "cell_type": "markdown",
   "id": "7ccef33d",
   "metadata": {},
   "source": [
    "# Scree Plot"
   ]
  },
  {
   "cell_type": "code",
   "execution_count": 22,
   "id": "1eed084a",
   "metadata": {},
   "outputs": [
    {
     "data": {
      "image/png": "[encoded data removed]",
      "text/plain": [
       "<Figure size 640x480 with 1 Axes>"
      ]
     },
     "metadata": {},
     "output_type": "display_data"
    }
   ],
   "source": [
    "plt.plot(eigen_values, marker='o')\n",
    "plt.title('Scree Plot')\n",
    "plt.xlabel('Principal Component')\n",
    "plt.ylabel('Eigenvalue')\n",
    "plt.grid(True)\n",
    "plt.show()"
   ]
  },
  {
   "cell_type": "markdown",
   "id": "33f84656",
   "metadata": {},
   "source": [
    "- Eigenvalues Calculation using FactorAnalyzer"
   ]
  },
  {
   "cell_type": "code",
   "execution_count": 23,
   "id": "26c505ad",
   "metadata": {},
   "outputs": [
    {
     "data": {
      "text/plain": [
       "array([3.7862382 , 2.40860525, 2.18161657, 1.06344892, 0.94395049,\n",
       "       0.6889982 , 0.52872324, 0.50770035, 0.46268646, 0.36501452,\n",
       "       0.3305411 , 0.28741198, 0.2595226 , 0.18554213])"
      ]
     },
     "execution_count": 23,
     "metadata": {},
     "output_type": "execute_result"
    }
   ],
   "source": [
    "from factor_analyzer import FactorAnalyzer\n",
    "fa = FactorAnalyzer(rotation = None)\n",
    "fa.fit(df_dropped)\n",
    "ev,v =fa.get_eigenvalues()\n",
    "ev"
   ]
  },
  {
   "cell_type": "markdown",
   "id": "69beae50",
   "metadata": {},
   "source": [
    "# Factor Analysis Execution\n",
    "- Decided to extract 6 factors based on eigen values.\n",
    "- Equamax"
   ]
  },
  {
   "cell_type": "code",
   "execution_count": 24,
   "id": "0a8ae9f3",
   "metadata": {},
   "outputs": [
    {
     "data": {
      "text/html": [
       "<style>#sk-container-id-2 {color: black;background-color: white;}#sk-container-id-2 pre{padding: 0;}#sk-container-id-2 div.sk-toggleable {background-color: white;}#sk-container-id-2 label.sk-toggleable__label {cursor: pointer;display: block;width: 100%;margin-bottom: 0;padding: 0.3em;box-sizing: border-box;text-align: center;}#sk-container-id-2 label.sk-toggleable__label-arrow:before {content: \"▸\";float: left;margin-right: 0.25em;color: #696969;}#sk-container-id-2 label.sk-toggleable__label-arrow:hover:before {color: black;}#sk-container-id-2 div.sk-estimator:hover label.sk-toggleable__label-arrow:before {color: black;}#sk-container-id-2 div.sk-toggleable__content {max-height: 0;max-width: 0;overflow: hidden;text-align: left;background-color: #f0f8ff;}#sk-container-id-2 div.sk-toggleable__content pre {margin: 0.2em;color: black;border-radius: 0.25em;background-color: #f0f8ff;}#sk-container-id-2 input.sk-toggleable__control:checked~div.sk-toggleable__content {max-height: 200px;max-width: 100%;overflow: auto;}#sk-container-id-2 input.sk-toggleable__control:checked~label.sk-toggleable__label-arrow:before {content: \"▾\";}#sk-container-id-2 div.sk-estimator input.sk-toggleable__control:checked~label.sk-toggleable__label {background-color: #d4ebff;}#sk-container-id-2 div.sk-label input.sk-toggleable__control:checked~label.sk-toggleable__label {background-color: #d4ebff;}#sk-container-id-2 input.sk-hidden--visually {border: 0;clip: rect(1px 1px 1px 1px);clip: rect(1px, 1px, 1px, 1px);height: 1px;margin: -1px;overflow: hidden;padding: 0;position: absolute;width: 1px;}#sk-container-id-2 div.sk-estimator {font-family: monospace;background-color: #f0f8ff;border: 1px dotted black;border-radius: 0.25em;box-sizing: border-box;margin-bottom: 0.5em;}#sk-container-id-2 div.sk-estimator:hover {background-color: #d4ebff;}#sk-container-id-2 div.sk-parallel-item::after {content: \"\";width: 100%;border-bottom: 1px solid gray;flex-grow: 1;}#sk-container-id-2 div.sk-label:hover label.sk-toggleable__label {background-color: #d4ebff;}#sk-container-id-2 div.sk-serial::before {content: \"\";position: absolute;border-left: 1px solid gray;box-sizing: border-box;top: 0;bottom: 0;left: 50%;z-index: 0;}#sk-container-id-2 div.sk-serial {display: flex;flex-direction: column;align-items: center;background-color: white;padding-right: 0.2em;padding-left: 0.2em;position: relative;}#sk-container-id-2 div.sk-item {position: relative;z-index: 1;}#sk-container-id-2 div.sk-parallel {display: flex;align-items: stretch;justify-content: center;background-color: white;position: relative;}#sk-container-id-2 div.sk-item::before, #sk-container-id-2 div.sk-parallel-item::before {content: \"\";position: absolute;border-left: 1px solid gray;box-sizing: border-box;top: 0;bottom: 0;left: 50%;z-index: -1;}#sk-container-id-2 div.sk-parallel-item {display: flex;flex-direction: column;z-index: 1;position: relative;background-color: white;}#sk-container-id-2 div.sk-parallel-item:first-child::after {align-self: flex-end;width: 50%;}#sk-container-id-2 div.sk-parallel-item:last-child::after {align-self: flex-start;width: 50%;}#sk-container-id-2 div.sk-parallel-item:only-child::after {width: 0;}#sk-container-id-2 div.sk-dashed-wrapped {border: 1px dashed gray;margin: 0 0.4em 0.5em 0.4em;box-sizing: border-box;padding-bottom: 0.4em;background-color: white;}#sk-container-id-2 div.sk-label label {font-family: monospace;font-weight: bold;display: inline-block;line-height: 1.2em;}#sk-container-id-2 div.sk-label-container {text-align: center;}#sk-container-id-2 div.sk-container {/* jupyter's `normalize.less` sets `[hidden] { display: none; }` but bootstrap.min.css set `[hidden] { display: none !important; }` so we also need the `!important` here to be able to override the default hidden behavior on the sphinx rendered scikit-learn.org. See: https://github.com/scikit-learn/scikit-learn/issues/21755 */display: inline-block !important;position: relative;}#sk-container-id-2 div.sk-text-repr-fallback {display: none;}</style><div id=\"sk-container-id-2\" class=\"sk-top-container\"><div class=\"sk-text-repr-fallback\"><pre>FactorAnalyzer(method=&#x27;principal&#x27;, n_factors=6, rotation=&#x27;equamax&#x27;,\n",
       "               rotation_kwargs={})</pre><b>In a Jupyter environment, please rerun this cell to show the HTML representation or trust the notebook. <br />On GitHub, the HTML representation is unable to render, please try loading this page with nbviewer.org.</b></div><div class=\"sk-container\" hidden><div class=\"sk-item\"><div class=\"sk-estimator sk-toggleable\"><input class=\"sk-toggleable__control sk-hidden--visually\" id=\"sk-estimator-id-2\" type=\"checkbox\" checked><label for=\"sk-estimator-id-2\" class=\"sk-toggleable__label sk-toggleable__label-arrow\">FactorAnalyzer</label><div class=\"sk-toggleable__content\"><pre>FactorAnalyzer(method=&#x27;principal&#x27;, n_factors=6, rotation=&#x27;equamax&#x27;,\n",
       "               rotation_kwargs={})</pre></div></div></div></div></div>"
      ],
      "text/plain": [
       "FactorAnalyzer(method='principal', n_factors=6, rotation='equamax',\n",
       "               rotation_kwargs={})"
      ]
     },
     "execution_count": 24,
     "metadata": {},
     "output_type": "execute_result"
    }
   ],
   "source": [
    "fa = FactorAnalyzer(n_factors=6,rotation='equamax', method='principal')\n",
    "fa.fit(df_dropped)"
   ]
  },
  {
   "cell_type": "markdown",
   "id": "8c045213",
   "metadata": {},
   "source": [
    "- Importing the 'inspect' Module"
   ]
  },
  {
   "cell_type": "code",
   "execution_count": 25,
   "id": "5ea1c76a",
   "metadata": {},
   "outputs": [],
   "source": [
    "import inspect"
   ]
  },
  {
   "cell_type": "markdown",
   "id": "fb7ec41b",
   "metadata": {},
   "source": [
    "- Communalities Calculation"
   ]
  },
  {
   "cell_type": "code",
   "execution_count": 26,
   "id": "6d9bedd9",
   "metadata": {},
   "outputs": [
    {
     "name": "stdout",
     "output_type": "stream",
     "text": [
      "[0.78559812 0.71533351 0.82254197 0.74090011 0.73355346 0.81939318\n",
      " 0.74433488 0.86203237 0.65995584 0.97987007 0.71825971 0.93314132\n",
      " 0.75605907 0.80188402]\n"
     ]
    }
   ],
   "source": [
    "communalities = fa.get_communalities()\n",
    "print(communalities)"
   ]
  },
  {
   "cell_type": "markdown",
   "id": "34d741f9",
   "metadata": {},
   "source": [
    "- Specific Variance Calculation"
   ]
  },
  {
   "cell_type": "code",
   "execution_count": 27,
   "id": "f5dda84d",
   "metadata": {},
   "outputs": [
    {
     "name": "stdout",
     "output_type": "stream",
     "text": [
      "[0.21440188 0.28466649 0.17745803 0.25909989 0.26644654 0.18060682\n",
      " 0.25566512 0.13796763 0.34004416 0.02012993 0.28174029 0.06685868\n",
      " 0.24394093 0.19811598]\n"
     ]
    }
   ],
   "source": [
    "specific_variance = 1 - communalities\n",
    "print(specific_variance)"
   ]
  },
  {
   "cell_type": "markdown",
   "id": "fca623ee",
   "metadata": {},
   "source": [
    "- Full Arguments Specification for FactorAnalyzer Inspection"
   ]
  },
  {
   "cell_type": "code",
   "execution_count": 28,
   "id": "b59c581f",
   "metadata": {},
   "outputs": [
    {
     "data": {
      "text/plain": [
       "FullArgSpec(args=['self', 'n_factors', 'rotation', 'method', 'use_smc', 'is_corr_matrix', 'bounds', 'impute', 'svd_method', 'rotation_kwargs'], varargs=None, varkw=None, defaults=(3, 'promax', 'minres', True, False, (0.005, 1), 'median', 'randomized', None), kwonlyargs=[], kwonlydefaults=None, annotations={})"
      ]
     },
     "execution_count": 28,
     "metadata": {},
     "output_type": "execute_result"
    }
   ],
   "source": [
    "inspect.getfullargspec(FactorAnalyzer)"
   ]
  },
  {
   "cell_type": "markdown",
   "id": "0a0d7922",
   "metadata": {},
   "source": [
    "# Factor Loadings"
   ]
  },
  {
   "cell_type": "code",
   "execution_count": 29,
   "id": "705cb38f",
   "metadata": {},
   "outputs": [
    {
     "data": {
      "text/html": [
       "<div>\n",
       "<style scoped>\n",
       "    .dataframe tbody tr th:only-of-type {\n",
       "        vertical-align: middle;\n",
       "    }\n",
       "\n",
       "    .dataframe tbody tr th {\n",
       "        vertical-align: top;\n",
       "    }\n",
       "\n",
       "    .dataframe thead th {\n",
       "        text-align: right;\n",
       "    }\n",
       "</style>\n",
       "<table border=\"1\" class=\"dataframe\">\n",
       "  <thead>\n",
       "    <tr style=\"text-align: right;\">\n",
       "      <th></th>\n",
       "      <th>0</th>\n",
       "      <th>1</th>\n",
       "      <th>2</th>\n",
       "      <th>3</th>\n",
       "      <th>4</th>\n",
       "      <th>5</th>\n",
       "    </tr>\n",
       "  </thead>\n",
       "  <tbody>\n",
       "    <tr>\n",
       "      <th>0</th>\n",
       "      <td>0.088109</td>\n",
       "      <td>0.815318</td>\n",
       "      <td>0.097038</td>\n",
       "      <td>0.299542</td>\n",
       "      <td>-0.079159</td>\n",
       "      <td>0.087654</td>\n",
       "    </tr>\n",
       "    <tr>\n",
       "      <th>1</th>\n",
       "      <td>-0.036526</td>\n",
       "      <td>0.208318</td>\n",
       "      <td>0.080663</td>\n",
       "      <td>0.789093</td>\n",
       "      <td>0.169960</td>\n",
       "      <td>-0.111992</td>\n",
       "    </tr>\n",
       "    <tr>\n",
       "      <th>2</th>\n",
       "      <td>-0.040496</td>\n",
       "      <td>0.780925</td>\n",
       "      <td>0.002492</td>\n",
       "      <td>0.445123</td>\n",
       "      <td>-0.073964</td>\n",
       "      <td>0.086301</td>\n",
       "    </tr>\n",
       "    <tr>\n",
       "      <th>3</th>\n",
       "      <td>0.005656</td>\n",
       "      <td>0.159960</td>\n",
       "      <td>-0.047678</td>\n",
       "      <td>0.836202</td>\n",
       "      <td>-0.102481</td>\n",
       "      <td>0.057205</td>\n",
       "    </tr>\n",
       "    <tr>\n",
       "      <th>4</th>\n",
       "      <td>0.853068</td>\n",
       "      <td>0.014387</td>\n",
       "      <td>-0.033958</td>\n",
       "      <td>0.032426</td>\n",
       "      <td>-0.047748</td>\n",
       "      <td>-0.033709</td>\n",
       "    </tr>\n",
       "    <tr>\n",
       "      <th>5</th>\n",
       "      <td>0.309291</td>\n",
       "      <td>0.788892</td>\n",
       "      <td>0.026572</td>\n",
       "      <td>-0.216017</td>\n",
       "      <td>0.230317</td>\n",
       "      <td>-0.031075</td>\n",
       "    </tr>\n",
       "    <tr>\n",
       "      <th>6</th>\n",
       "      <td>0.834265</td>\n",
       "      <td>0.129535</td>\n",
       "      <td>-0.023354</td>\n",
       "      <td>-0.046406</td>\n",
       "      <td>0.169274</td>\n",
       "      <td>0.014342</td>\n",
       "    </tr>\n",
       "    <tr>\n",
       "      <th>7</th>\n",
       "      <td>0.807636</td>\n",
       "      <td>0.072752</td>\n",
       "      <td>0.421083</td>\n",
       "      <td>-0.008645</td>\n",
       "      <td>-0.088974</td>\n",
       "      <td>0.138425</td>\n",
       "    </tr>\n",
       "    <tr>\n",
       "      <th>8</th>\n",
       "      <td>0.106825</td>\n",
       "      <td>0.084125</td>\n",
       "      <td>0.781695</td>\n",
       "      <td>-0.041479</td>\n",
       "      <td>0.122135</td>\n",
       "      <td>0.117401</td>\n",
       "    </tr>\n",
       "    <tr>\n",
       "      <th>9</th>\n",
       "      <td>0.081390</td>\n",
       "      <td>0.087891</td>\n",
       "      <td>0.290348</td>\n",
       "      <td>-0.013258</td>\n",
       "      <td>0.063783</td>\n",
       "      <td>0.936469</td>\n",
       "    </tr>\n",
       "    <tr>\n",
       "      <th>10</th>\n",
       "      <td>0.072879</td>\n",
       "      <td>0.024528</td>\n",
       "      <td>0.827374</td>\n",
       "      <td>0.025914</td>\n",
       "      <td>0.083787</td>\n",
       "      <td>0.141802</td>\n",
       "    </tr>\n",
       "    <tr>\n",
       "      <th>11</th>\n",
       "      <td>0.097654</td>\n",
       "      <td>0.031067</td>\n",
       "      <td>0.174803</td>\n",
       "      <td>0.015381</td>\n",
       "      <td>0.942242</td>\n",
       "      <td>0.063458</td>\n",
       "    </tr>\n",
       "    <tr>\n",
       "      <th>12</th>\n",
       "      <td>0.078157</td>\n",
       "      <td>0.008789</td>\n",
       "      <td>0.854263</td>\n",
       "      <td>0.031653</td>\n",
       "      <td>0.069054</td>\n",
       "      <td>0.119738</td>\n",
       "    </tr>\n",
       "    <tr>\n",
       "      <th>13</th>\n",
       "      <td>0.889668</td>\n",
       "      <td>0.050949</td>\n",
       "      <td>0.019646</td>\n",
       "      <td>-0.001958</td>\n",
       "      <td>0.084942</td>\n",
       "      <td>0.013192</td>\n",
       "    </tr>\n",
       "  </tbody>\n",
       "</table>\n",
       "</div>"
      ],
      "text/plain": [
       "           0         1         2         3         4         5\n",
       "0   0.088109  0.815318  0.097038  0.299542 -0.079159  0.087654\n",
       "1  -0.036526  0.208318  0.080663  0.789093  0.169960 -0.111992\n",
       "2  -0.040496  0.780925  0.002492  0.445123 -0.073964  0.086301\n",
       "3   0.005656  0.159960 -0.047678  0.836202 -0.102481  0.057205\n",
       "4   0.853068  0.014387 -0.033958  0.032426 -0.047748 -0.033709\n",
       "5   0.309291  0.788892  0.026572 -0.216017  0.230317 -0.031075\n",
       "6   0.834265  0.129535 -0.023354 -0.046406  0.169274  0.014342\n",
       "7   0.807636  0.072752  0.421083 -0.008645 -0.088974  0.138425\n",
       "8   0.106825  0.084125  0.781695 -0.041479  0.122135  0.117401\n",
       "9   0.081390  0.087891  0.290348 -0.013258  0.063783  0.936469\n",
       "10  0.072879  0.024528  0.827374  0.025914  0.083787  0.141802\n",
       "11  0.097654  0.031067  0.174803  0.015381  0.942242  0.063458\n",
       "12  0.078157  0.008789  0.854263  0.031653  0.069054  0.119738\n",
       "13  0.889668  0.050949  0.019646 -0.001958  0.084942  0.013192"
      ]
     },
     "execution_count": 29,
     "metadata": {},
     "output_type": "execute_result"
    }
   ],
   "source": [
    "fa.loadings_\n",
    "\n",
    "floading=pd.DataFrame(fa.loadings_)\n",
    "floading"
   ]
  },
  {
   "cell_type": "markdown",
   "id": "03c7131e",
   "metadata": {},
   "source": [
    "# Factor Rotation Matrix"
   ]
  },
  {
   "cell_type": "code",
   "execution_count": 30,
   "id": "1f77226d",
   "metadata": {},
   "outputs": [
    {
     "data": {
      "text/html": [
       "<div>\n",
       "<style scoped>\n",
       "    .dataframe tbody tr th:only-of-type {\n",
       "        vertical-align: middle;\n",
       "    }\n",
       "\n",
       "    .dataframe tbody tr th {\n",
       "        vertical-align: top;\n",
       "    }\n",
       "\n",
       "    .dataframe thead th {\n",
       "        text-align: right;\n",
       "    }\n",
       "</style>\n",
       "<table border=\"1\" class=\"dataframe\">\n",
       "  <thead>\n",
       "    <tr style=\"text-align: right;\">\n",
       "      <th></th>\n",
       "      <th>0</th>\n",
       "      <th>1</th>\n",
       "      <th>2</th>\n",
       "      <th>3</th>\n",
       "      <th>4</th>\n",
       "      <th>5</th>\n",
       "    </tr>\n",
       "  </thead>\n",
       "  <tbody>\n",
       "    <tr>\n",
       "      <th>0</th>\n",
       "      <td>0.729706</td>\n",
       "      <td>0.367255</td>\n",
       "      <td>0.499640</td>\n",
       "      <td>-0.099244</td>\n",
       "      <td>-0.173267</td>\n",
       "      <td>0.207706</td>\n",
       "    </tr>\n",
       "    <tr>\n",
       "      <th>1</th>\n",
       "      <td>-0.352822</td>\n",
       "      <td>0.650285</td>\n",
       "      <td>-0.080382</td>\n",
       "      <td>-0.665707</td>\n",
       "      <td>0.054022</td>\n",
       "      <td>0.010065</td>\n",
       "    </tr>\n",
       "    <tr>\n",
       "      <th>2</th>\n",
       "      <td>-0.545458</td>\n",
       "      <td>-0.163216</td>\n",
       "      <td>0.757091</td>\n",
       "      <td>0.032190</td>\n",
       "      <td>-0.128871</td>\n",
       "      <td>0.291558</td>\n",
       "    </tr>\n",
       "    <tr>\n",
       "      <th>3</th>\n",
       "      <td>-0.209704</td>\n",
       "      <td>0.550476</td>\n",
       "      <td>-0.158198</td>\n",
       "      <td>0.629801</td>\n",
       "      <td>-0.478809</td>\n",
       "      <td>0.045458</td>\n",
       "    </tr>\n",
       "    <tr>\n",
       "      <th>4</th>\n",
       "      <td>-0.021875</td>\n",
       "      <td>0.280776</td>\n",
       "      <td>0.034136</td>\n",
       "      <td>0.353543</td>\n",
       "      <td>0.819440</td>\n",
       "      <td>0.350780</td>\n",
       "    </tr>\n",
       "    <tr>\n",
       "      <th>5</th>\n",
       "      <td>0.032665</td>\n",
       "      <td>-0.183725</td>\n",
       "      <td>-0.380158</td>\n",
       "      <td>-0.155908</td>\n",
       "      <td>-0.222964</td>\n",
       "      <td>0.864082</td>\n",
       "    </tr>\n",
       "  </tbody>\n",
       "</table>\n",
       "</div>"
      ],
      "text/plain": [
       "          0         1         2         3         4         5\n",
       "0  0.729706  0.367255  0.499640 -0.099244 -0.173267  0.207706\n",
       "1 -0.352822  0.650285 -0.080382 -0.665707  0.054022  0.010065\n",
       "2 -0.545458 -0.163216  0.757091  0.032190 -0.128871  0.291558\n",
       "3 -0.209704  0.550476 -0.158198  0.629801 -0.478809  0.045458\n",
       "4 -0.021875  0.280776  0.034136  0.353543  0.819440  0.350780\n",
       "5  0.032665 -0.183725 -0.380158 -0.155908 -0.222964  0.864082"
      ]
     },
     "execution_count": 30,
     "metadata": {},
     "output_type": "execute_result"
    }
   ],
   "source": [
    "fa.rotation_matrix_\n",
    "froma=pd.DataFrame(fa.rotation_matrix_)\n",
    "froma"
   ]
  },
  {
   "cell_type": "markdown",
   "id": "e487e86f",
   "metadata": {},
   "source": [
    "# Factor Scores"
   ]
  },
  {
   "cell_type": "code",
   "execution_count": 31,
   "id": "f4ec216a",
   "metadata": {
    "scrolled": true
   },
   "outputs": [
    {
     "data": {
      "text/html": [
       "<div>\n",
       "<style scoped>\n",
       "    .dataframe tbody tr th:only-of-type {\n",
       "        vertical-align: middle;\n",
       "    }\n",
       "\n",
       "    .dataframe tbody tr th {\n",
       "        vertical-align: top;\n",
       "    }\n",
       "\n",
       "    .dataframe thead th {\n",
       "        text-align: right;\n",
       "    }\n",
       "</style>\n",
       "<table border=\"1\" class=\"dataframe\">\n",
       "  <thead>\n",
       "    <tr style=\"text-align: right;\">\n",
       "      <th></th>\n",
       "      <th>0</th>\n",
       "      <th>1</th>\n",
       "      <th>2</th>\n",
       "      <th>3</th>\n",
       "      <th>4</th>\n",
       "      <th>5</th>\n",
       "    </tr>\n",
       "  </thead>\n",
       "  <tbody>\n",
       "    <tr>\n",
       "      <th>0</th>\n",
       "      <td>0.453928</td>\n",
       "      <td>0.775686</td>\n",
       "      <td>1.433984</td>\n",
       "      <td>0.557411</td>\n",
       "      <td>-1.366953</td>\n",
       "      <td>0.813525</td>\n",
       "    </tr>\n",
       "    <tr>\n",
       "      <th>1</th>\n",
       "      <td>1.226241</td>\n",
       "      <td>-0.123381</td>\n",
       "      <td>0.130128</td>\n",
       "      <td>-1.571832</td>\n",
       "      <td>-0.231942</td>\n",
       "      <td>0.313283</td>\n",
       "    </tr>\n",
       "    <tr>\n",
       "      <th>2</th>\n",
       "      <td>-0.998353</td>\n",
       "      <td>-0.444453</td>\n",
       "      <td>-0.262374</td>\n",
       "      <td>-0.572078</td>\n",
       "      <td>-1.225155</td>\n",
       "      <td>-1.260164</td>\n",
       "    </tr>\n",
       "    <tr>\n",
       "      <th>3</th>\n",
       "      <td>0.176662</td>\n",
       "      <td>-0.850084</td>\n",
       "      <td>-2.612650</td>\n",
       "      <td>-1.812640</td>\n",
       "      <td>0.590893</td>\n",
       "      <td>-1.106874</td>\n",
       "    </tr>\n",
       "    <tr>\n",
       "      <th>4</th>\n",
       "      <td>-0.126590</td>\n",
       "      <td>-0.759299</td>\n",
       "      <td>-1.530359</td>\n",
       "      <td>0.775713</td>\n",
       "      <td>0.397622</td>\n",
       "      <td>-0.379066</td>\n",
       "    </tr>\n",
       "    <tr>\n",
       "      <th>...</th>\n",
       "      <td>...</td>\n",
       "      <td>...</td>\n",
       "      <td>...</td>\n",
       "      <td>...</td>\n",
       "      <td>...</td>\n",
       "      <td>...</td>\n",
       "    </tr>\n",
       "    <tr>\n",
       "      <th>25971</th>\n",
       "      <td>0.469135</td>\n",
       "      <td>0.113668</td>\n",
       "      <td>0.676139</td>\n",
       "      <td>-0.655591</td>\n",
       "      <td>0.308611</td>\n",
       "      <td>-1.375384</td>\n",
       "    </tr>\n",
       "    <tr>\n",
       "      <th>25972</th>\n",
       "      <td>0.406507</td>\n",
       "      <td>0.572221</td>\n",
       "      <td>0.744819</td>\n",
       "      <td>0.834825</td>\n",
       "      <td>1.007920</td>\n",
       "      <td>0.997806</td>\n",
       "    </tr>\n",
       "    <tr>\n",
       "      <th>25973</th>\n",
       "      <td>-1.079063</td>\n",
       "      <td>-1.751059</td>\n",
       "      <td>0.487688</td>\n",
       "      <td>1.927852</td>\n",
       "      <td>1.414062</td>\n",
       "      <td>-0.215789</td>\n",
       "    </tr>\n",
       "    <tr>\n",
       "      <th>25974</th>\n",
       "      <td>0.518704</td>\n",
       "      <td>0.275649</td>\n",
       "      <td>0.916089</td>\n",
       "      <td>-0.028780</td>\n",
       "      <td>0.296719</td>\n",
       "      <td>-1.400755</td>\n",
       "    </tr>\n",
       "    <tr>\n",
       "      <th>25975</th>\n",
       "      <td>-0.712334</td>\n",
       "      <td>-0.873439</td>\n",
       "      <td>-2.317071</td>\n",
       "      <td>1.667900</td>\n",
       "      <td>-1.199876</td>\n",
       "      <td>-0.368129</td>\n",
       "    </tr>\n",
       "  </tbody>\n",
       "</table>\n",
       "<p>25976 rows × 6 columns</p>\n",
       "</div>"
      ],
      "text/plain": [
       "              0         1         2         3         4         5\n",
       "0      0.453928  0.775686  1.433984  0.557411 -1.366953  0.813525\n",
       "1      1.226241 -0.123381  0.130128 -1.571832 -0.231942  0.313283\n",
       "2     -0.998353 -0.444453 -0.262374 -0.572078 -1.225155 -1.260164\n",
       "3      0.176662 -0.850084 -2.612650 -1.812640  0.590893 -1.106874\n",
       "4     -0.126590 -0.759299 -1.530359  0.775713  0.397622 -0.379066\n",
       "...         ...       ...       ...       ...       ...       ...\n",
       "25971  0.469135  0.113668  0.676139 -0.655591  0.308611 -1.375384\n",
       "25972  0.406507  0.572221  0.744819  0.834825  1.007920  0.997806\n",
       "25973 -1.079063 -1.751059  0.487688  1.927852  1.414062 -0.215789\n",
       "25974  0.518704  0.275649  0.916089 -0.028780  0.296719 -1.400755\n",
       "25975 -0.712334 -0.873439 -2.317071  1.667900 -1.199876 -0.368129\n",
       "\n",
       "[25976 rows x 6 columns]"
      ]
     },
     "execution_count": 31,
     "metadata": {},
     "output_type": "execute_result"
    }
   ],
   "source": [
    "fscore = fa.transform(df_dropped)\n",
    "fscore_data=pd.DataFrame(fscore)\n",
    "fscore_data"
   ]
  },
  {
   "cell_type": "markdown",
   "id": "c1a103e1",
   "metadata": {},
   "source": [
    "- Splitting dataset into independent and dependent "
   ]
  },
  {
   "cell_type": "code",
   "execution_count": 32,
   "id": "86b7f80c",
   "metadata": {},
   "outputs": [],
   "source": [
    "x=fscore_data\n",
    "y=df.iloc[:,-1]"
   ]
  },
  {
   "cell_type": "code",
   "execution_count": 33,
   "id": "49948d8f",
   "metadata": {},
   "outputs": [
    {
     "data": {
      "text/html": [
       "<div>\n",
       "<style scoped>\n",
       "    .dataframe tbody tr th:only-of-type {\n",
       "        vertical-align: middle;\n",
       "    }\n",
       "\n",
       "    .dataframe tbody tr th {\n",
       "        vertical-align: top;\n",
       "    }\n",
       "\n",
       "    .dataframe thead th {\n",
       "        text-align: right;\n",
       "    }\n",
       "</style>\n",
       "<table border=\"1\" class=\"dataframe\">\n",
       "  <thead>\n",
       "    <tr style=\"text-align: right;\">\n",
       "      <th></th>\n",
       "      <th>0</th>\n",
       "      <th>1</th>\n",
       "      <th>2</th>\n",
       "      <th>3</th>\n",
       "      <th>4</th>\n",
       "      <th>5</th>\n",
       "    </tr>\n",
       "  </thead>\n",
       "  <tbody>\n",
       "    <tr>\n",
       "      <th>0</th>\n",
       "      <td>0.453928</td>\n",
       "      <td>0.775686</td>\n",
       "      <td>1.433984</td>\n",
       "      <td>0.557411</td>\n",
       "      <td>-1.366953</td>\n",
       "      <td>0.813525</td>\n",
       "    </tr>\n",
       "    <tr>\n",
       "      <th>1</th>\n",
       "      <td>1.226241</td>\n",
       "      <td>-0.123381</td>\n",
       "      <td>0.130128</td>\n",
       "      <td>-1.571832</td>\n",
       "      <td>-0.231942</td>\n",
       "      <td>0.313283</td>\n",
       "    </tr>\n",
       "    <tr>\n",
       "      <th>2</th>\n",
       "      <td>-0.998353</td>\n",
       "      <td>-0.444453</td>\n",
       "      <td>-0.262374</td>\n",
       "      <td>-0.572078</td>\n",
       "      <td>-1.225155</td>\n",
       "      <td>-1.260164</td>\n",
       "    </tr>\n",
       "    <tr>\n",
       "      <th>3</th>\n",
       "      <td>0.176662</td>\n",
       "      <td>-0.850084</td>\n",
       "      <td>-2.612650</td>\n",
       "      <td>-1.812640</td>\n",
       "      <td>0.590893</td>\n",
       "      <td>-1.106874</td>\n",
       "    </tr>\n",
       "    <tr>\n",
       "      <th>4</th>\n",
       "      <td>-0.126590</td>\n",
       "      <td>-0.759299</td>\n",
       "      <td>-1.530359</td>\n",
       "      <td>0.775713</td>\n",
       "      <td>0.397622</td>\n",
       "      <td>-0.379066</td>\n",
       "    </tr>\n",
       "    <tr>\n",
       "      <th>...</th>\n",
       "      <td>...</td>\n",
       "      <td>...</td>\n",
       "      <td>...</td>\n",
       "      <td>...</td>\n",
       "      <td>...</td>\n",
       "      <td>...</td>\n",
       "    </tr>\n",
       "    <tr>\n",
       "      <th>25971</th>\n",
       "      <td>0.469135</td>\n",
       "      <td>0.113668</td>\n",
       "      <td>0.676139</td>\n",
       "      <td>-0.655591</td>\n",
       "      <td>0.308611</td>\n",
       "      <td>-1.375384</td>\n",
       "    </tr>\n",
       "    <tr>\n",
       "      <th>25972</th>\n",
       "      <td>0.406507</td>\n",
       "      <td>0.572221</td>\n",
       "      <td>0.744819</td>\n",
       "      <td>0.834825</td>\n",
       "      <td>1.007920</td>\n",
       "      <td>0.997806</td>\n",
       "    </tr>\n",
       "    <tr>\n",
       "      <th>25973</th>\n",
       "      <td>-1.079063</td>\n",
       "      <td>-1.751059</td>\n",
       "      <td>0.487688</td>\n",
       "      <td>1.927852</td>\n",
       "      <td>1.414062</td>\n",
       "      <td>-0.215789</td>\n",
       "    </tr>\n",
       "    <tr>\n",
       "      <th>25974</th>\n",
       "      <td>0.518704</td>\n",
       "      <td>0.275649</td>\n",
       "      <td>0.916089</td>\n",
       "      <td>-0.028780</td>\n",
       "      <td>0.296719</td>\n",
       "      <td>-1.400755</td>\n",
       "    </tr>\n",
       "    <tr>\n",
       "      <th>25975</th>\n",
       "      <td>-0.712334</td>\n",
       "      <td>-0.873439</td>\n",
       "      <td>-2.317071</td>\n",
       "      <td>1.667900</td>\n",
       "      <td>-1.199876</td>\n",
       "      <td>-0.368129</td>\n",
       "    </tr>\n",
       "  </tbody>\n",
       "</table>\n",
       "<p>25976 rows × 6 columns</p>\n",
       "</div>"
      ],
      "text/plain": [
       "              0         1         2         3         4         5\n",
       "0      0.453928  0.775686  1.433984  0.557411 -1.366953  0.813525\n",
       "1      1.226241 -0.123381  0.130128 -1.571832 -0.231942  0.313283\n",
       "2     -0.998353 -0.444453 -0.262374 -0.572078 -1.225155 -1.260164\n",
       "3      0.176662 -0.850084 -2.612650 -1.812640  0.590893 -1.106874\n",
       "4     -0.126590 -0.759299 -1.530359  0.775713  0.397622 -0.379066\n",
       "...         ...       ...       ...       ...       ...       ...\n",
       "25971  0.469135  0.113668  0.676139 -0.655591  0.308611 -1.375384\n",
       "25972  0.406507  0.572221  0.744819  0.834825  1.007920  0.997806\n",
       "25973 -1.079063 -1.751059  0.487688  1.927852  1.414062 -0.215789\n",
       "25974  0.518704  0.275649  0.916089 -0.028780  0.296719 -1.400755\n",
       "25975 -0.712334 -0.873439 -2.317071  1.667900 -1.199876 -0.368129\n",
       "\n",
       "[25976 rows x 6 columns]"
      ]
     },
     "execution_count": 33,
     "metadata": {},
     "output_type": "execute_result"
    }
   ],
   "source": [
    "x"
   ]
  },
  {
   "cell_type": "code",
   "execution_count": 34,
   "id": "8b9b9bc9",
   "metadata": {},
   "outputs": [
    {
     "data": {
      "text/plain": [
       "0        1\n",
       "1        1\n",
       "2        0\n",
       "3        1\n",
       "4        1\n",
       "        ..\n",
       "25971    0\n",
       "25972    1\n",
       "25973    0\n",
       "25974    1\n",
       "25975    0\n",
       "Name: satisfaction, Length: 25976, dtype: int64"
      ]
     },
     "execution_count": 34,
     "metadata": {},
     "output_type": "execute_result"
    }
   ],
   "source": [
    "y"
   ]
  },
  {
   "cell_type": "markdown",
   "id": "52b1bddd",
   "metadata": {},
   "source": [
    "- Train-Test Split"
   ]
  },
  {
   "cell_type": "code",
   "execution_count": 35,
   "id": "0820b0e1",
   "metadata": {},
   "outputs": [],
   "source": [
    "from sklearn.model_selection import train_test_split\n",
    "x_train, x_test, y_train, y_test = train_test_split(x, y, test_size=0.2, random_state=42)"
   ]
  },
  {
   "cell_type": "markdown",
   "id": "e056abe5",
   "metadata": {},
   "source": [
    "- Logistic Regression Classifier Initialization"
   ]
  },
  {
   "cell_type": "code",
   "execution_count": 36,
   "id": "951bc458",
   "metadata": {},
   "outputs": [],
   "source": [
    "from sklearn.linear_model import LogisticRegression\n",
    "classifier=LogisticRegression()"
   ]
  },
  {
   "cell_type": "code",
   "execution_count": 37,
   "id": "f601cc78",
   "metadata": {},
   "outputs": [],
   "source": [
    "from sklearn.model_selection import GridSearchCV\n",
    "parameter={'penalty':['l1','l2','elasticnet'],'C':[1,2,3,4,5,6,7,8,10],'max_iter':[100,200,300]}"
   ]
  },
  {
   "cell_type": "code",
   "execution_count": 38,
   "id": "bbbefd92",
   "metadata": {},
   "outputs": [],
   "source": [
    "classifier_regressor=GridSearchCV(classifier,param_grid=parameter,scoring='accuracy',cv=5)"
   ]
  },
  {
   "cell_type": "code",
   "execution_count": 39,
   "id": "f612bc60",
   "metadata": {},
   "outputs": [
    {
     "name": "stderr",
     "output_type": "stream",
     "text": [
      "C:\\Users\\Daya\\anaconda3\\Lib\\site-packages\\sklearn\\model_selection\\_validation.py:378: FitFailedWarning: \n",
      "270 fits failed out of a total of 405.\n",
      "The score on these train-test partitions for these parameters will be set to nan.\n",
      "If these failures are not expected, you can try to debug them by setting error_score='raise'.\n",
      "\n",
      "Below are more details about the failures:\n",
      "--------------------------------------------------------------------------------\n",
      "135 fits failed with the following error:\n",
      "Traceback (most recent call last):\n",
      "  File \"C:\\Users\\Daya\\anaconda3\\Lib\\site-packages\\sklearn\\model_selection\\_validation.py\", line 686, in _fit_and_score\n",
      "    estimator.fit(X_train, y_train, **fit_params)\n",
      "  File \"C:\\Users\\Daya\\anaconda3\\Lib\\site-packages\\sklearn\\linear_model\\_logistic.py\", line 1162, in fit\n",
      "    solver = _check_solver(self.solver, self.penalty, self.dual)\n",
      "             ^^^^^^^^^^^^^^^^^^^^^^^^^^^^^^^^^^^^^^^^^^^^^^^^^^^\n",
      "  File \"C:\\Users\\Daya\\anaconda3\\Lib\\site-packages\\sklearn\\linear_model\\_logistic.py\", line 54, in _check_solver\n",
      "    raise ValueError(\n",
      "ValueError: Solver lbfgs supports only 'l2' or 'none' penalties, got l1 penalty.\n",
      "\n",
      "--------------------------------------------------------------------------------\n",
      "135 fits failed with the following error:\n",
      "Traceback (most recent call last):\n",
      "  File \"C:\\Users\\Daya\\anaconda3\\Lib\\site-packages\\sklearn\\model_selection\\_validation.py\", line 686, in _fit_and_score\n",
      "    estimator.fit(X_train, y_train, **fit_params)\n",
      "  File \"C:\\Users\\Daya\\anaconda3\\Lib\\site-packages\\sklearn\\linear_model\\_logistic.py\", line 1162, in fit\n",
      "    solver = _check_solver(self.solver, self.penalty, self.dual)\n",
      "             ^^^^^^^^^^^^^^^^^^^^^^^^^^^^^^^^^^^^^^^^^^^^^^^^^^^\n",
      "  File \"C:\\Users\\Daya\\anaconda3\\Lib\\site-packages\\sklearn\\linear_model\\_logistic.py\", line 54, in _check_solver\n",
      "    raise ValueError(\n",
      "ValueError: Solver lbfgs supports only 'l2' or 'none' penalties, got elasticnet penalty.\n",
      "\n",
      "  warnings.warn(some_fits_failed_message, FitFailedWarning)\n",
      "C:\\Users\\Daya\\anaconda3\\Lib\\site-packages\\sklearn\\model_selection\\_search.py:952: UserWarning: One or more of the test scores are non-finite: [       nan 0.80404235        nan        nan 0.80404235        nan\n",
      "        nan 0.80404235        nan        nan 0.80404235        nan\n",
      "        nan 0.80404235        nan        nan 0.80404235        nan\n",
      "        nan 0.80404235        nan        nan 0.80404235        nan\n",
      "        nan 0.80404235        nan        nan 0.80404235        nan\n",
      "        nan 0.80404235        nan        nan 0.80404235        nan\n",
      "        nan 0.80404235        nan        nan 0.80404235        nan\n",
      "        nan 0.80404235        nan        nan 0.80404235        nan\n",
      "        nan 0.80404235        nan        nan 0.80404235        nan\n",
      "        nan 0.80404235        nan        nan 0.80404235        nan\n",
      "        nan 0.80404235        nan        nan 0.80404235        nan\n",
      "        nan 0.80404235        nan        nan 0.80404235        nan\n",
      "        nan 0.80404235        nan        nan 0.80404235        nan\n",
      "        nan 0.80404235        nan]\n",
      "  warnings.warn(\n"
     ]
    },
    {
     "data": {
      "text/html": [
       "<style>#sk-container-id-3 {color: black;background-color: white;}#sk-container-id-3 pre{padding: 0;}#sk-container-id-3 div.sk-toggleable {background-color: white;}#sk-container-id-3 label.sk-toggleable__label {cursor: pointer;display: block;width: 100%;margin-bottom: 0;padding: 0.3em;box-sizing: border-box;text-align: center;}#sk-container-id-3 label.sk-toggleable__label-arrow:before {content: \"▸\";float: left;margin-right: 0.25em;color: #696969;}#sk-container-id-3 label.sk-toggleable__label-arrow:hover:before {color: black;}#sk-container-id-3 div.sk-estimator:hover label.sk-toggleable__label-arrow:before {color: black;}#sk-container-id-3 div.sk-toggleable__content {max-height: 0;max-width: 0;overflow: hidden;text-align: left;background-color: #f0f8ff;}#sk-container-id-3 div.sk-toggleable__content pre {margin: 0.2em;color: black;border-radius: 0.25em;background-color: #f0f8ff;}#sk-container-id-3 input.sk-toggleable__control:checked~div.sk-toggleable__content {max-height: 200px;max-width: 100%;overflow: auto;}#sk-container-id-3 input.sk-toggleable__control:checked~label.sk-toggleable__label-arrow:before {content: \"▾\";}#sk-container-id-3 div.sk-estimator input.sk-toggleable__control:checked~label.sk-toggleable__label {background-color: #d4ebff;}#sk-container-id-3 div.sk-label input.sk-toggleable__control:checked~label.sk-toggleable__label {background-color: #d4ebff;}#sk-container-id-3 input.sk-hidden--visually {border: 0;clip: rect(1px 1px 1px 1px);clip: rect(1px, 1px, 1px, 1px);height: 1px;margin: -1px;overflow: hidden;padding: 0;position: absolute;width: 1px;}#sk-container-id-3 div.sk-estimator {font-family: monospace;background-color: #f0f8ff;border: 1px dotted black;border-radius: 0.25em;box-sizing: border-box;margin-bottom: 0.5em;}#sk-container-id-3 div.sk-estimator:hover {background-color: #d4ebff;}#sk-container-id-3 div.sk-parallel-item::after {content: \"\";width: 100%;border-bottom: 1px solid gray;flex-grow: 1;}#sk-container-id-3 div.sk-label:hover label.sk-toggleable__label {background-color: #d4ebff;}#sk-container-id-3 div.sk-serial::before {content: \"\";position: absolute;border-left: 1px solid gray;box-sizing: border-box;top: 0;bottom: 0;left: 50%;z-index: 0;}#sk-container-id-3 div.sk-serial {display: flex;flex-direction: column;align-items: center;background-color: white;padding-right: 0.2em;padding-left: 0.2em;position: relative;}#sk-container-id-3 div.sk-item {position: relative;z-index: 1;}#sk-container-id-3 div.sk-parallel {display: flex;align-items: stretch;justify-content: center;background-color: white;position: relative;}#sk-container-id-3 div.sk-item::before, #sk-container-id-3 div.sk-parallel-item::before {content: \"\";position: absolute;border-left: 1px solid gray;box-sizing: border-box;top: 0;bottom: 0;left: 50%;z-index: -1;}#sk-container-id-3 div.sk-parallel-item {display: flex;flex-direction: column;z-index: 1;position: relative;background-color: white;}#sk-container-id-3 div.sk-parallel-item:first-child::after {align-self: flex-end;width: 50%;}#sk-container-id-3 div.sk-parallel-item:last-child::after {align-self: flex-start;width: 50%;}#sk-container-id-3 div.sk-parallel-item:only-child::after {width: 0;}#sk-container-id-3 div.sk-dashed-wrapped {border: 1px dashed gray;margin: 0 0.4em 0.5em 0.4em;box-sizing: border-box;padding-bottom: 0.4em;background-color: white;}#sk-container-id-3 div.sk-label label {font-family: monospace;font-weight: bold;display: inline-block;line-height: 1.2em;}#sk-container-id-3 div.sk-label-container {text-align: center;}#sk-container-id-3 div.sk-container {/* jupyter's `normalize.less` sets `[hidden] { display: none; }` but bootstrap.min.css set `[hidden] { display: none !important; }` so we also need the `!important` here to be able to override the default hidden behavior on the sphinx rendered scikit-learn.org. See: https://github.com/scikit-learn/scikit-learn/issues/21755 */display: inline-block !important;position: relative;}#sk-container-id-3 div.sk-text-repr-fallback {display: none;}</style><div id=\"sk-container-id-3\" class=\"sk-top-container\"><div class=\"sk-text-repr-fallback\"><pre>GridSearchCV(cv=5, estimator=LogisticRegression(),\n",
       "             param_grid={&#x27;C&#x27;: [1, 2, 3, 4, 5, 6, 7, 8, 10],\n",
       "                         &#x27;max_iter&#x27;: [100, 200, 300],\n",
       "                         &#x27;penalty&#x27;: [&#x27;l1&#x27;, &#x27;l2&#x27;, &#x27;elasticnet&#x27;]},\n",
       "             scoring=&#x27;accuracy&#x27;)</pre><b>In a Jupyter environment, please rerun this cell to show the HTML representation or trust the notebook. <br />On GitHub, the HTML representation is unable to render, please try loading this page with nbviewer.org.</b></div><div class=\"sk-container\" hidden><div class=\"sk-item sk-dashed-wrapped\"><div class=\"sk-label-container\"><div class=\"sk-label sk-toggleable\"><input class=\"sk-toggleable__control sk-hidden--visually\" id=\"sk-estimator-id-3\" type=\"checkbox\" ><label for=\"sk-estimator-id-3\" class=\"sk-toggleable__label sk-toggleable__label-arrow\">GridSearchCV</label><div class=\"sk-toggleable__content\"><pre>GridSearchCV(cv=5, estimator=LogisticRegression(),\n",
       "             param_grid={&#x27;C&#x27;: [1, 2, 3, 4, 5, 6, 7, 8, 10],\n",
       "                         &#x27;max_iter&#x27;: [100, 200, 300],\n",
       "                         &#x27;penalty&#x27;: [&#x27;l1&#x27;, &#x27;l2&#x27;, &#x27;elasticnet&#x27;]},\n",
       "             scoring=&#x27;accuracy&#x27;)</pre></div></div></div><div class=\"sk-parallel\"><div class=\"sk-parallel-item\"><div class=\"sk-item\"><div class=\"sk-label-container\"><div class=\"sk-label sk-toggleable\"><input class=\"sk-toggleable__control sk-hidden--visually\" id=\"sk-estimator-id-4\" type=\"checkbox\" ><label for=\"sk-estimator-id-4\" class=\"sk-toggleable__label sk-toggleable__label-arrow\">estimator: LogisticRegression</label><div class=\"sk-toggleable__content\"><pre>LogisticRegression()</pre></div></div></div><div class=\"sk-serial\"><div class=\"sk-item\"><div class=\"sk-estimator sk-toggleable\"><input class=\"sk-toggleable__control sk-hidden--visually\" id=\"sk-estimator-id-5\" type=\"checkbox\" ><label for=\"sk-estimator-id-5\" class=\"sk-toggleable__label sk-toggleable__label-arrow\">LogisticRegression</label><div class=\"sk-toggleable__content\"><pre>LogisticRegression()</pre></div></div></div></div></div></div></div></div></div></div>"
      ],
      "text/plain": [
       "GridSearchCV(cv=5, estimator=LogisticRegression(),\n",
       "             param_grid={'C': [1, 2, 3, 4, 5, 6, 7, 8, 10],\n",
       "                         'max_iter': [100, 200, 300],\n",
       "                         'penalty': ['l1', 'l2', 'elasticnet']},\n",
       "             scoring='accuracy')"
      ]
     },
     "execution_count": 39,
     "metadata": {},
     "output_type": "execute_result"
    }
   ],
   "source": [
    "classifier_regressor.fit(x_train,y_train)"
   ]
  },
  {
   "cell_type": "code",
   "execution_count": 40,
   "id": "1d6dd504",
   "metadata": {},
   "outputs": [
    {
     "name": "stdout",
     "output_type": "stream",
     "text": [
      "{'C': 1, 'max_iter': 100, 'penalty': 'l2'}\n"
     ]
    }
   ],
   "source": [
    "print(classifier_regressor.best_params_)"
   ]
  },
  {
   "cell_type": "code",
   "execution_count": 41,
   "id": "cc883e64",
   "metadata": {},
   "outputs": [
    {
     "name": "stdout",
     "output_type": "stream",
     "text": [
      "0.8040423484119344\n"
     ]
    }
   ],
   "source": [
    "print(classifier_regressor.best_score_)"
   ]
  },
  {
   "cell_type": "markdown",
   "id": "21bb5cc2",
   "metadata": {},
   "source": [
    "# Prediction using Classifier"
   ]
  },
  {
   "cell_type": "code",
   "execution_count": 42,
   "id": "a1a5da8d",
   "metadata": {},
   "outputs": [],
   "source": [
    "y_predict=classifier_regressor.predict(x_test)"
   ]
  },
  {
   "cell_type": "code",
   "execution_count": 43,
   "id": "376d3e9a",
   "metadata": {},
   "outputs": [],
   "source": [
    "from sklearn.metrics import accuracy_score,classification_report"
   ]
  },
  {
   "cell_type": "code",
   "execution_count": 44,
   "id": "6dc69ede",
   "metadata": {},
   "outputs": [
    {
     "name": "stdout",
     "output_type": "stream",
     "text": [
      "0.7954195535026943\n"
     ]
    }
   ],
   "source": [
    "score=accuracy_score(y_predict,y_test)\n",
    "print(score)"
   ]
  },
  {
   "cell_type": "code",
   "execution_count": 45,
   "id": "a9ef6717",
   "metadata": {},
   "outputs": [
    {
     "data": {
      "text/plain": [
       "array([[2411,  529],\n",
       "       [ 534, 1722]], dtype=int64)"
      ]
     },
     "execution_count": 45,
     "metadata": {},
     "output_type": "execute_result"
    }
   ],
   "source": [
    "from sklearn.metrics import confusion_matrix\n",
    "confusion_matrix(y_predict,y_test)"
   ]
  },
  {
   "cell_type": "code",
   "execution_count": 46,
   "id": "d9cb9114",
   "metadata": {},
   "outputs": [
    {
     "data": {
      "text/html": [
       "<div>\n",
       "<style scoped>\n",
       "    .dataframe tbody tr th:only-of-type {\n",
       "        vertical-align: middle;\n",
       "    }\n",
       "\n",
       "    .dataframe tbody tr th {\n",
       "        vertical-align: top;\n",
       "    }\n",
       "\n",
       "    .dataframe thead th {\n",
       "        text-align: right;\n",
       "    }\n",
       "</style>\n",
       "<table border=\"1\" class=\"dataframe\">\n",
       "  <thead>\n",
       "    <tr style=\"text-align: right;\">\n",
       "      <th></th>\n",
       "      <th>0</th>\n",
       "      <th>1</th>\n",
       "      <th>2</th>\n",
       "      <th>3</th>\n",
       "      <th>4</th>\n",
       "      <th>5</th>\n",
       "    </tr>\n",
       "  </thead>\n",
       "  <tbody>\n",
       "    <tr>\n",
       "      <th>0</th>\n",
       "      <td>0.453928</td>\n",
       "      <td>0.775686</td>\n",
       "      <td>1.433984</td>\n",
       "      <td>0.557411</td>\n",
       "      <td>-1.366953</td>\n",
       "      <td>0.813525</td>\n",
       "    </tr>\n",
       "    <tr>\n",
       "      <th>1</th>\n",
       "      <td>1.226241</td>\n",
       "      <td>-0.123381</td>\n",
       "      <td>0.130128</td>\n",
       "      <td>-1.571832</td>\n",
       "      <td>-0.231942</td>\n",
       "      <td>0.313283</td>\n",
       "    </tr>\n",
       "    <tr>\n",
       "      <th>2</th>\n",
       "      <td>-0.998353</td>\n",
       "      <td>-0.444453</td>\n",
       "      <td>-0.262374</td>\n",
       "      <td>-0.572078</td>\n",
       "      <td>-1.225155</td>\n",
       "      <td>-1.260164</td>\n",
       "    </tr>\n",
       "    <tr>\n",
       "      <th>3</th>\n",
       "      <td>0.176662</td>\n",
       "      <td>-0.850084</td>\n",
       "      <td>-2.612650</td>\n",
       "      <td>-1.812640</td>\n",
       "      <td>0.590893</td>\n",
       "      <td>-1.106874</td>\n",
       "    </tr>\n",
       "    <tr>\n",
       "      <th>4</th>\n",
       "      <td>-0.126590</td>\n",
       "      <td>-0.759299</td>\n",
       "      <td>-1.530359</td>\n",
       "      <td>0.775713</td>\n",
       "      <td>0.397622</td>\n",
       "      <td>-0.379066</td>\n",
       "    </tr>\n",
       "    <tr>\n",
       "      <th>5</th>\n",
       "      <td>1.234965</td>\n",
       "      <td>0.785012</td>\n",
       "      <td>-1.113865</td>\n",
       "      <td>-0.423074</td>\n",
       "      <td>-1.743016</td>\n",
       "      <td>-0.190777</td>\n",
       "    </tr>\n",
       "    <tr>\n",
       "      <th>6</th>\n",
       "      <td>0.305171</td>\n",
       "      <td>1.535214</td>\n",
       "      <td>1.195512</td>\n",
       "      <td>1.244400</td>\n",
       "      <td>0.286909</td>\n",
       "      <td>0.833046</td>\n",
       "    </tr>\n",
       "    <tr>\n",
       "      <th>7</th>\n",
       "      <td>0.511720</td>\n",
       "      <td>-0.155591</td>\n",
       "      <td>0.179488</td>\n",
       "      <td>-0.906004</td>\n",
       "      <td>1.299784</td>\n",
       "      <td>0.359690</td>\n",
       "    </tr>\n",
       "    <tr>\n",
       "      <th>8</th>\n",
       "      <td>1.474683</td>\n",
       "      <td>1.102716</td>\n",
       "      <td>-0.051836</td>\n",
       "      <td>-1.065780</td>\n",
       "      <td>-0.532566</td>\n",
       "      <td>-1.219481</td>\n",
       "    </tr>\n",
       "    <tr>\n",
       "      <th>9</th>\n",
       "      <td>0.294587</td>\n",
       "      <td>-0.139727</td>\n",
       "      <td>0.249275</td>\n",
       "      <td>-0.923205</td>\n",
       "      <td>1.301278</td>\n",
       "      <td>0.383919</td>\n",
       "    </tr>\n",
       "    <tr>\n",
       "      <th>10</th>\n",
       "      <td>0.926757</td>\n",
       "      <td>-0.659227</td>\n",
       "      <td>-0.660759</td>\n",
       "      <td>-1.101178</td>\n",
       "      <td>-1.958629</td>\n",
       "      <td>0.797996</td>\n",
       "    </tr>\n",
       "    <tr>\n",
       "      <th>11</th>\n",
       "      <td>-0.356558</td>\n",
       "      <td>0.191614</td>\n",
       "      <td>-1.573986</td>\n",
       "      <td>1.665290</td>\n",
       "      <td>0.375985</td>\n",
       "      <td>-0.511693</td>\n",
       "    </tr>\n",
       "    <tr>\n",
       "      <th>12</th>\n",
       "      <td>0.523558</td>\n",
       "      <td>1.423603</td>\n",
       "      <td>1.091074</td>\n",
       "      <td>1.352476</td>\n",
       "      <td>0.947778</td>\n",
       "      <td>0.831861</td>\n",
       "    </tr>\n",
       "    <tr>\n",
       "      <th>13</th>\n",
       "      <td>1.067594</td>\n",
       "      <td>0.447199</td>\n",
       "      <td>1.145776</td>\n",
       "      <td>-1.760535</td>\n",
       "      <td>-0.502037</td>\n",
       "      <td>0.761299</td>\n",
       "    </tr>\n",
       "    <tr>\n",
       "      <th>14</th>\n",
       "      <td>1.072303</td>\n",
       "      <td>0.160343</td>\n",
       "      <td>0.207923</td>\n",
       "      <td>-1.128818</td>\n",
       "      <td>-0.159097</td>\n",
       "      <td>0.160559</td>\n",
       "    </tr>\n",
       "    <tr>\n",
       "      <th>15</th>\n",
       "      <td>-1.138709</td>\n",
       "      <td>-1.762586</td>\n",
       "      <td>1.147846</td>\n",
       "      <td>0.847128</td>\n",
       "      <td>0.425185</td>\n",
       "      <td>-1.173087</td>\n",
       "    </tr>\n",
       "    <tr>\n",
       "      <th>16</th>\n",
       "      <td>-1.178068</td>\n",
       "      <td>-0.214723</td>\n",
       "      <td>-0.245189</td>\n",
       "      <td>1.889280</td>\n",
       "      <td>0.621664</td>\n",
       "      <td>-0.007421</td>\n",
       "    </tr>\n",
       "    <tr>\n",
       "      <th>17</th>\n",
       "      <td>0.344398</td>\n",
       "      <td>1.665357</td>\n",
       "      <td>0.531487</td>\n",
       "      <td>0.197693</td>\n",
       "      <td>0.273666</td>\n",
       "      <td>0.922388</td>\n",
       "    </tr>\n",
       "    <tr>\n",
       "      <th>18</th>\n",
       "      <td>0.551949</td>\n",
       "      <td>0.458432</td>\n",
       "      <td>1.568553</td>\n",
       "      <td>-0.671684</td>\n",
       "      <td>0.434262</td>\n",
       "      <td>-1.030413</td>\n",
       "    </tr>\n",
       "    <tr>\n",
       "      <th>19</th>\n",
       "      <td>0.678379</td>\n",
       "      <td>1.371385</td>\n",
       "      <td>-0.042163</td>\n",
       "      <td>1.441355</td>\n",
       "      <td>1.151685</td>\n",
       "      <td>1.120247</td>\n",
       "    </tr>\n",
       "  </tbody>\n",
       "</table>\n",
       "</div>"
      ],
      "text/plain": [
       "           0         1         2         3         4         5\n",
       "0   0.453928  0.775686  1.433984  0.557411 -1.366953  0.813525\n",
       "1   1.226241 -0.123381  0.130128 -1.571832 -0.231942  0.313283\n",
       "2  -0.998353 -0.444453 -0.262374 -0.572078 -1.225155 -1.260164\n",
       "3   0.176662 -0.850084 -2.612650 -1.812640  0.590893 -1.106874\n",
       "4  -0.126590 -0.759299 -1.530359  0.775713  0.397622 -0.379066\n",
       "5   1.234965  0.785012 -1.113865 -0.423074 -1.743016 -0.190777\n",
       "6   0.305171  1.535214  1.195512  1.244400  0.286909  0.833046\n",
       "7   0.511720 -0.155591  0.179488 -0.906004  1.299784  0.359690\n",
       "8   1.474683  1.102716 -0.051836 -1.065780 -0.532566 -1.219481\n",
       "9   0.294587 -0.139727  0.249275 -0.923205  1.301278  0.383919\n",
       "10  0.926757 -0.659227 -0.660759 -1.101178 -1.958629  0.797996\n",
       "11 -0.356558  0.191614 -1.573986  1.665290  0.375985 -0.511693\n",
       "12  0.523558  1.423603  1.091074  1.352476  0.947778  0.831861\n",
       "13  1.067594  0.447199  1.145776 -1.760535 -0.502037  0.761299\n",
       "14  1.072303  0.160343  0.207923 -1.128818 -0.159097  0.160559\n",
       "15 -1.138709 -1.762586  1.147846  0.847128  0.425185 -1.173087\n",
       "16 -1.178068 -0.214723 -0.245189  1.889280  0.621664 -0.007421\n",
       "17  0.344398  1.665357  0.531487  0.197693  0.273666  0.922388\n",
       "18  0.551949  0.458432  1.568553 -0.671684  0.434262 -1.030413\n",
       "19  0.678379  1.371385 -0.042163  1.441355  1.151685  1.120247"
      ]
     },
     "execution_count": 46,
     "metadata": {},
     "output_type": "execute_result"
    }
   ],
   "source": [
    "x_1= x.head(20)\n",
    "x_1"
   ]
  },
  {
   "cell_type": "code",
   "execution_count": 47,
   "id": "48084149",
   "metadata": {},
   "outputs": [
    {
     "name": "stdout",
     "output_type": "stream",
     "text": [
      "[1 1 0 0 0 1 1 1 1 1 0 0 1 1 1 0 0 1 1 1]\n"
     ]
    }
   ],
   "source": [
    "y_1=classifier_regressor.predict(x_1) # prediction of first 3 values \n",
    "print(y_1)"
   ]
  },
  {
   "cell_type": "code",
   "execution_count": 48,
   "id": "7d317bf5",
   "metadata": {},
   "outputs": [
    {
     "name": "stdout",
     "output_type": "stream",
     "text": [
      "0     1\n",
      "1     1\n",
      "2     0\n",
      "3     1\n",
      "4     1\n",
      "5     1\n",
      "6     1\n",
      "7     1\n",
      "8     1\n",
      "9     1\n",
      "10    1\n",
      "11    0\n",
      "12    1\n",
      "13    1\n",
      "14    1\n",
      "15    0\n",
      "16    0\n",
      "17    1\n",
      "18    0\n",
      "19    1\n",
      "Name: satisfaction, dtype: int64\n"
     ]
    }
   ],
   "source": [
    "y_2_actual=y.head(20)\n",
    "print(y_2_actual)"
   ]
  },
  {
   "cell_type": "code",
   "execution_count": 49,
   "id": "c14cb77d",
   "metadata": {},
   "outputs": [],
   "source": [
    "Final=pd.DataFrame({\"predcit\":y_1,\"Actual\":y_2_actual})"
   ]
  },
  {
   "cell_type": "code",
   "execution_count": 50,
   "id": "38dcf81d",
   "metadata": {},
   "outputs": [
    {
     "name": "stdout",
     "output_type": "stream",
     "text": [
      "    predcit  Actual\n",
      "0         1       1\n",
      "1         1       1\n",
      "2         0       0\n",
      "3         0       1\n",
      "4         0       1\n",
      "5         1       1\n",
      "6         1       1\n",
      "7         1       1\n",
      "8         1       1\n",
      "9         1       1\n",
      "10        0       1\n",
      "11        0       0\n",
      "12        1       1\n",
      "13        1       1\n",
      "14        1       1\n",
      "15        0       0\n",
      "16        0       0\n",
      "17        1       1\n",
      "18        1       0\n",
      "19        1       1\n"
     ]
    }
   ],
   "source": [
    "print(Final)"
   ]
  },
  {
   "cell_type": "markdown",
   "id": "facfbda7",
   "metadata": {},
   "source": [
    "- Best Estimator Intercept Value"
   ]
  },
  {
   "cell_type": "code",
   "execution_count": 51,
   "id": "88bd9d7e",
   "metadata": {},
   "outputs": [
    {
     "data": {
      "text/plain": [
       "array([-0.44042154])"
      ]
     },
     "execution_count": 51,
     "metadata": {},
     "output_type": "execute_result"
    }
   ],
   "source": [
    "classifier_regressor.best_estimator_.intercept_"
   ]
  },
  {
   "cell_type": "markdown",
   "id": "4b02dcef",
   "metadata": {},
   "source": [
    "- Best Estimator Coefficients"
   ]
  },
  {
   "cell_type": "code",
   "execution_count": 52,
   "id": "6af3cf06",
   "metadata": {},
   "outputs": [
    {
     "data": {
      "text/plain": [
       "array([[ 0.95787223,  1.06570914,  0.68526766, -0.48717027,  0.49016708,\n",
       "         0.56478783]])"
      ]
     },
     "execution_count": 52,
     "metadata": {},
     "output_type": "execute_result"
    }
   ],
   "source": [
    "classifier_regressor.best_estimator_.coef_"
   ]
  },
  {
   "cell_type": "markdown",
   "id": "63508946",
   "metadata": {},
   "source": [
    "- Coefficients Extracted from Best Estimator"
   ]
  },
  {
   "cell_type": "code",
   "execution_count": 53,
   "id": "e9c33d0d",
   "metadata": {},
   "outputs": [],
   "source": [
    "coef=classifier_regressor.best_estimator_.coef_.flatten().tolist()"
   ]
  },
  {
   "cell_type": "markdown",
   "id": "ee5da9b3",
   "metadata": {},
   "source": [
    "- Rounded Intercept Value from Best Estimator"
   ]
  },
  {
   "cell_type": "code",
   "execution_count": 54,
   "id": "c9793ffc",
   "metadata": {},
   "outputs": [
    {
     "data": {
      "text/plain": [
       "-0.44"
      ]
     },
     "execution_count": 54,
     "metadata": {},
     "output_type": "execute_result"
    }
   ],
   "source": [
    "inter=round(classifier_regressor.best_estimator_.intercept_[0],2)\n",
    "inter"
   ]
  },
  {
   "cell_type": "markdown",
   "id": "030600ab",
   "metadata": {},
   "source": [
    "- List of Factors"
   ]
  },
  {
   "cell_type": "code",
   "execution_count": 59,
   "id": "c9cd6385",
   "metadata": {},
   "outputs": [],
   "source": [
    "Factors=[\"Overall_Inflight_Experience\",\"E-flight_Experiece\",\"Luggage_Logistics\",\"Off_flight_Experience\",\"Check-IN_Experience\"]"
   ]
  },
  {
   "cell_type": "markdown",
   "id": "998c1658",
   "metadata": {},
   "source": [
    "# Model Building"
   ]
  },
  {
   "cell_type": "code",
   "execution_count": 60,
   "id": "716f61ae",
   "metadata": {},
   "outputs": [],
   "source": [
    "#run once\n",
    "model=\"Intercept*\"\n",
    "model+=str(inter)+\" \""
   ]
  },
  {
   "cell_type": "code",
   "execution_count": 61,
   "id": "6d7d378d",
   "metadata": {},
   "outputs": [],
   "source": [
    "for i in  range(0,len(Factors)):\n",
    "    if coef[i]>0:\n",
    "        model+=\" + \"\n",
    "        model+=(str(round(coef[i],2))+\"*\"+(str(Factors[i])))\n",
    "    else:\n",
    "        model+=\" \"+(str(round(coef[i],2))+\"*\"+(str(Factors[i])))"
   ]
  },
  {
   "cell_type": "code",
   "execution_count": 62,
   "id": "d1a6b0b3",
   "metadata": {},
   "outputs": [
    {
     "data": {
      "text/plain": [
       "'Intercept*-0.44  + 0.96*Overall_Inflight_Experience + 1.07*E-flight_Experiece + 0.69*Luggage_Logistics -0.49*Off_flight_Experience + 0.49*Check-IN_Experience'"
      ]
     },
     "execution_count": 62,
     "metadata": {},
     "output_type": "execute_result"
    }
   ],
   "source": [
    "model"
   ]
  }
 ],
 "metadata": {
  "kernelspec": {
   "display_name": "Python 3 (ipykernel)",
   "language": "python",
   "name": "python3"
  },
  "language_info": {
   "codemirror_mode": {
    "name": "ipython",
    "version": 3
   },
   "file_extension": ".py",
   "mimetype": "text/x-python",
   "name": "python",
   "nbconvert_exporter": "python",
   "pygments_lexer": "ipython3",
   "version": "3.11.7"
  }
 },
 "nbformat": 4,
 "nbformat_minor": 5
}
